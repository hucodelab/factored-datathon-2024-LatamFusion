{
 "cells": [
  {
   "cell_type": "code",
   "execution_count": 27,
   "metadata": {},
   "outputs": [],
   "source": [
    "import requests\n",
    "from bs4 import BeautifulSoup\n",
    "import hashlib\n",
    "import os\n",
    "import io\n",
    "import zipfile\n",
    "\n",
    "from azure.storage.blob import BlobServiceClient\n",
    "from concurrent.futures import ThreadPoolExecutor"
   ]
  },
  {
   "cell_type": "code",
   "execution_count": 28,
   "metadata": {},
   "outputs": [],
   "source": [
    "# URL of the webpage containing the .csv files\n",
    "url = 'http://data.gdeltproject.org/events/index.html'  # Replace with the actual URL\n",
    "base_url = 'http://data.gdeltproject.org/events/'"
   ]
  },
  {
   "cell_type": "code",
   "execution_count": 29,
   "metadata": {},
   "outputs": [],
   "source": [
    "response = requests.get(url)\n",
    "soup = BeautifulSoup(response.text, 'html.parser')\n",
    "files = soup.find_all('a', href=True)\n",
    "# # Example of parsing the webpage to find the links, sizes, and MD5s\n",
    "# files = soup.find_all('a', href=True)\n",
    "\n",
    "file_lists = []\n",
    "for file in files:\n",
    "    # print(file['href'])\n",
    "    if file['href'].endswith('.zip'):\n",
    "        file_lists.append(base_url+file['href'])"
   ]
  },
  {
   "cell_type": "code",
   "execution_count": 34,
   "metadata": {},
   "outputs": [
    {
     "name": "stdout",
     "output_type": "stream",
     "text": [
      "Uploaded 20240811.export.CSV to Azure Data Lake Storage\n",
      "Uploaded 20240812.export.CSV to Azure Data Lake Storage\n",
      "Uploaded 20240809.export.CSV to Azure Data Lake Storage\n",
      "Uploaded 20240813.export.CSV to Azure Data Lake Storage\n",
      "Uploaded 20240810.export.CSV to Azure Data Lake Storage\n"
     ]
    }
   ],
   "source": [
    "# Azure Storage account details\n",
    "storage_account_name = \"factoredatathon\"\n",
    "storage_account_key = \"yDTqsi+AifQJPvC5r7L5iFFdmmj+fbxWr280etWbWMPXWij0yfmiuLJH3sZ91TI7SwmfR1SBD8L7+AStGVUo3Q==\"\n",
    "container_name = \"bronze\"\n",
    "\n",
    "# Create a BlobServiceClient\n",
    "blob_service_client = BlobServiceClient(\n",
    "    f\"https://{storage_account_name}.blob.core.windows.net\", storage_account_key\n",
    ")\n",
    "\n",
    "# Function to download and upload a file\n",
    "def download_and_upload(url):\n",
    "    try:\n",
    "        # Download the file\n",
    "        file_name = os.path.basename(url)\n",
    "        response = requests.get(url)\n",
    "        local_path = f\"/tmp/{file_name}\"\n",
    "        \n",
    "        # Decompress the .zip file in memory\n",
    "        with zipfile.ZipFile(io.BytesIO(response.content)) as z:\n",
    "            for zip_info in z.infolist():\n",
    "                # Extract the file to a byte stream\n",
    "                with z.open(zip_info) as extracted_file:\n",
    "                    # Upload the extracted file to Azure Data Lake Storage\n",
    "                    blob_name = zip_info.filename  # Use the name of the file inside the .zip\n",
    "                    blob_client = blob_service_client.get_blob_client(container=container_name, blob=blob_name)\n",
    "                    blob_client.upload_blob(extracted_file.read(), overwrite=True)\n",
    "                    print(f\"Uploaded {blob_name} to Azure Data Lake Storage\")\n",
    "\n",
    "    except Exception as e:\n",
    "        print(f\"Failed to upload {file_name}: {e}\")\n",
    "        \n",
    "# Use ThreadPoolExecutor to download and upload files concurrently\n",
    "with ThreadPoolExecutor() as executor:\n",
    "    executor.map(download_and_upload, file_lists[1:6])"
   ]
  }
 ],
 "metadata": {
  "kernelspec": {
   "display_name": "venv",
   "language": "python",
   "name": "python3"
  },
  "language_info": {
   "codemirror_mode": {
    "name": "ipython",
    "version": 3
   },
   "file_extension": ".py",
   "mimetype": "text/x-python",
   "name": "python",
   "nbconvert_exporter": "python",
   "pygments_lexer": "ipython3",
   "version": "3.9.13"
  },
  "orig_nbformat": 4,
  "vscode": {
   "interpreter": {
    "hash": "d0747050815602162b654281df3a7bcb28b8cad5fe83bd7f26fef093538b4610"
   }
  }
 },
 "nbformat": 4,
 "nbformat_minor": 2
}
