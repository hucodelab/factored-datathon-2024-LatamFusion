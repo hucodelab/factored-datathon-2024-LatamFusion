{
 "cells": [
  {
   "cell_type": "code",
   "execution_count": 0,
   "metadata": {
    "application/vnd.databricks.v1+cell": {
     "cellMetadata": {
      "byteLimit": 2048000,
      "rowLimit": 10000
     },
     "inputWidgets": {},
     "nuid": "642f3cf0-facd-4bc5-bc4a-064ecbe08a2b",
     "showTitle": false,
     "title": ""
    }
   },
   "outputs": [],
   "source": [
    "import numpy as np\n",
    "import pandas as pd"
   ]
  },
  {
   "cell_type": "code",
   "execution_count": 0,
   "metadata": {
    "application/vnd.databricks.v1+cell": {
     "cellMetadata": {
      "byteLimit": 2048000,
      "rowLimit": 10000
     },
     "inputWidgets": {},
     "nuid": "eb99d580-e707-467b-947e-26dda1879e37",
     "showTitle": false,
     "title": ""
    }
   },
   "outputs": [],
   "source": [
    "# HERE IS READING FROM READING FROM STORAGE ACCOUNT\n",
    "storage_account_key = \"wgbe0Fzs4W3dPNc35dp//uumz+SPDXVLLGu0mNaxTs2VLHCCPnD7u79PYt4mKeSFboqMRnZ+s+ez+ASty+k+sQ==\"\n",
    "storage_account_name = \"factoredatathon2024\"\n",
    "container_name = \"gold\"\n",
    "\n",
    "spark.conf.set(\n",
    "    f\"fs.azure.account.key.{storage_account_name}.blob.core.windows.net\",\n",
    "    f\"{storage_account_key}\"\n",
    ")\n",
    "\n",
    "file_path = f\"wasbs://{container_name}@{storage_account_name}.blob.core.windows.net/gkg/themesSortedGold.csv\"\n",
    "df = spark.read.format(\"csv\").option(\"header\", \"true\").load(file_path)\n",
    "df = df.dropna(subset=[\"THEMES_EXPLODED\"])"
   ]
  },
  {
   "cell_type": "code",
   "execution_count": 0,
   "metadata": {
    "application/vnd.databricks.v1+cell": {
     "cellMetadata": {
      "byteLimit": 2048000,
      "rowLimit": 10000
     },
     "inputWidgets": {},
     "nuid": "7751b2c2-8368-4219-a79d-edce408ca680",
     "showTitle": false,
     "title": ""
    }
   },
   "outputs": [],
   "source": [
    "### HERE YOU CAN READ FROM AZURE SQL\n",
    "# Define the JDBC URL\n",
    "jdbc_hostname = \"factoredata2024.database.windows.net\"\n",
    "jdbc_port = 1433\n",
    "jdbc_database = \"dactoredata2024\"\n",
    "jdbc_url = f\"jdbc:sqlserver://{jdbc_hostname}:{jdbc_port};database={jdbc_database}\"\n",
    "\n",
    "# Define the connection properties\n",
    "connection_properties = {\n",
    "    \"user\": \"factoredata2024admin\",\n",
    "    \"password\": \"mdjdmliipo3^%^$5mkkm63\",\n",
    "    \"driver\": \"com.microsoft.sqlserver.jdbc.SQLServerDriver\"\n",
    "}\n",
    "\n",
    "# Define your SQL query\n",
    "#sql_query = \"(SELECT THEMES_EXPLODED, count FROM [gkg].[THEMES] WHERE THEMES_EXPLODED != '' AND count > 100) AS tmp\"\n",
    "sql_query = \"(SELECT THEMES_EXPLODED, count FROM [gkg].[THEMES] WHERE THEMES_EXPLODED != '') AS tmp\"\n",
    "\n",
    "# Load data from Azure SQL Database into a DataFrame\n",
    "df = spark.read.jdbc(url=jdbc_url, table=sql_query, properties=connection_properties)"
   ]
  },
  {
   "cell_type": "code",
   "execution_count": 0,
   "metadata": {
    "application/vnd.databricks.v1+cell": {
     "cellMetadata": {
      "byteLimit": 2048000,
      "rowLimit": 10000
     },
     "inputWidgets": {},
     "nuid": "17026475-6304-4f82-8cb9-e729544166a6",
     "showTitle": false,
     "title": ""
    }
   },
   "outputs": [],
   "source": [
    "df.show()"
   ]
  },
  {
   "cell_type": "code",
   "execution_count": 0,
   "metadata": {
    "application/vnd.databricks.v1+cell": {
     "cellMetadata": {
      "byteLimit": 2048000,
      "rowLimit": 10000
     },
     "inputWidgets": {},
     "nuid": "ed494774-4031-45ae-99e1-c7381b9ee3b4",
     "showTitle": false,
     "title": ""
    }
   },
   "outputs": [],
   "source": [
    "themes = df.toPandas()\n"
   ]
  },
  {
   "cell_type": "code",
   "execution_count": 0,
   "metadata": {
    "application/vnd.databricks.v1+cell": {
     "cellMetadata": {
      "byteLimit": 2048000,
      "rowLimit": 10000
     },
     "inputWidgets": {},
     "nuid": "e613a6ae-88f6-4f82-8d9d-8d264c8733ee",
     "showTitle": false,
     "title": ""
    }
   },
   "outputs": [],
   "source": [
    "themes_list = list(themes['THEMES_EXPLODED'])\n",
    "themes_list"
   ]
  },
  {
   "cell_type": "code",
   "execution_count": 0,
   "metadata": {
    "application/vnd.databricks.v1+cell": {
     "cellMetadata": {
      "byteLimit": 2048000,
      "rowLimit": 10000
     },
     "inputWidgets": {},
     "nuid": "82729d34-3cec-49b1-8f81-d8c6412e91f1",
     "showTitle": false,
     "title": ""
    }
   },
   "outputs": [],
   "source": [
    "themes.head()"
   ]
  },
  {
   "cell_type": "markdown",
   "metadata": {
    "application/vnd.databricks.v1+cell": {
     "cellMetadata": {
      "byteLimit": 2048000,
      "rowLimit": 10000
     },
     "inputWidgets": {},
     "nuid": "5f1d6863-cae6-4f2e-9065-15a553178df8",
     "showTitle": false,
     "title": ""
    }
   },
   "source": [
    "## TfidfVectorizer + Kmeans Approach\n"
   ]
  },
  {
   "cell_type": "code",
   "execution_count": 0,
   "metadata": {
    "application/vnd.databricks.v1+cell": {
     "cellMetadata": {
      "byteLimit": 2048000,
      "rowLimit": 10000
     },
     "inputWidgets": {},
     "nuid": "14e20761-0599-42fe-8722-4267299d0aa1",
     "showTitle": false,
     "title": ""
    }
   },
   "outputs": [],
   "source": [
    "from sklearn.feature_extraction.text import TfidfVectorizer\n",
    "from sklearn.cluster import KMeans\n",
    "\n",
    "vectorizer = TfidfVectorizer(stop_words='english', max_features=5000)\n",
    "X = vectorizer.fit_transform(themes_list)  # themes_list es la lista de temas\n",
    "\n",
    "kmeans = KMeans(n_clusters=10, init='k-means++', max_iter=500, n_init=10, random_state=42)\n",
    "kmeans.fit(X)\n",
    "\n",
    "themes['Cluster'] = kmeans.labels_"
   ]
  },
  {
   "cell_type": "code",
   "execution_count": 0,
   "metadata": {
    "application/vnd.databricks.v1+cell": {
     "cellMetadata": {
      "byteLimit": 2048000,
      "rowLimit": 10000
     },
     "inputWidgets": {},
     "nuid": "45694536-f1be-403c-8c10-84f0c90de823",
     "showTitle": false,
     "title": ""
    }
   },
   "outputs": [],
   "source": [
    "themes['Cluster'].value_counts()"
   ]
  },
  {
   "cell_type": "code",
   "execution_count": 0,
   "metadata": {
    "application/vnd.databricks.v1+cell": {
     "cellMetadata": {
      "byteLimit": 2048000,
      "rowLimit": 10000
     },
     "inputWidgets": {},
     "nuid": "14ac1c15-737b-4c25-bb7d-f35db0e26328",
     "showTitle": false,
     "title": ""
    }
   },
   "outputs": [],
   "source": [
    "from sklearn.manifold import TSNE\n",
    "import matplotlib.pyplot as plt\n",
    "# Aplicar t-SNE para reducir la dimensionalidad a 2D\n",
    "tsne = TSNE(n_components=2, random_state=42)\n",
    "X_tsne = tsne.fit_transform(X.toarray())\n",
    "\n",
    "# Convertir el resultado de t-SNE en un DataFrame para una manipulación más sencilla\n",
    "tsne_df = pd.DataFrame(X_tsne, columns=['Dim1', 'Dim2'])\n",
    "tsne_df['Cluster'] = themes['Cluster']\n",
    "\n",
    "# Visualizar los clusters\n",
    "plt.figure(figsize=(10, 8))\n",
    "scatter = plt.scatter(tsne_df['Dim1'], tsne_df['Dim2'], c=tsne_df['Cluster'], cmap='viridis', s=10, alpha=0.6)\n",
    "\n",
    "# Añadir leyenda con los clusters\n",
    "plt.legend(*scatter.legend_elements(), title=\"Clusters\")\n",
    "plt.title('Clusters visualizados con t-SNE')\n",
    "plt.xlabel('Dim1')\n",
    "plt.ylabel('Dim2')\n",
    "plt.show()"
   ]
  },
  {
   "cell_type": "code",
   "execution_count": 0,
   "metadata": {
    "application/vnd.databricks.v1+cell": {
     "cellMetadata": {
      "byteLimit": 2048000,
      "rowLimit": 10000
     },
     "inputWidgets": {},
     "nuid": "32349e39-fb07-4ea5-a625-f5da74b55b0d",
     "showTitle": false,
     "title": ""
    }
   },
   "outputs": [],
   "source": [
    "themes.head()"
   ]
  },
  {
   "cell_type": "code",
   "execution_count": 0,
   "metadata": {
    "application/vnd.databricks.v1+cell": {
     "cellMetadata": {
      "byteLimit": 2048000,
      "rowLimit": 10000
     },
     "inputWidgets": {},
     "nuid": "e8eadf46-c740-44ff-976c-b6a91ce12861",
     "showTitle": false,
     "title": ""
    }
   },
   "outputs": [],
   "source": [
    "themes['Cluster'].value_counts()\n"
   ]
  },
  {
   "cell_type": "code",
   "execution_count": 0,
   "metadata": {
    "application/vnd.databricks.v1+cell": {
     "cellMetadata": {},
     "inputWidgets": {},
     "nuid": "0014b5af-fa0b-49e5-a1c0-14b66875e9a4",
     "showTitle": false,
     "title": ""
    }
   },
   "outputs": [],
   "source": [
    "# Aplicar t-SNE para reducir la dimensionalidad a 2D\n",
    "tsne = TSNE(n_components=2, random_state=42)\n",
    "X_tsne = tsne.fit_transform(sample_X.toarray())\n",
    "\n",
    "# Convertir el resultado de t-SNE en un DataFrame para una manipulación más sencilla\n",
    "tsne_df = pd.DataFrame(X_tsne, columns=['Dim1', 'Dim2'])\n",
    "tsne_df['Cluster'] = labels_df['Cluster']\n",
    "\n",
    "# Visualizar los clusters\n",
    "plt.figure(figsize=(10, 8))\n",
    "scatter = plt.scatter(tsne_df['Dim1'], tsne_df['Dim2'], c=tsne_df['Cluster'], cmap='viridis', s=10, alpha=0.6)\n",
    "\n",
    "# Añadir leyenda con los clusters\n",
    "plt.legend(*scatter.legend_elements(), title=\"Clusters\")\n",
    "plt.title('Clusters visualizados con t-SNE')\n",
    "plt.xlabel('Dim1')\n",
    "plt.ylabel('Dim2')\n",
    "plt.show()"
   ]
  },
  {
   "cell_type": "code",
   "execution_count": 0,
   "metadata": {
    "application/vnd.databricks.v1+cell": {
     "cellMetadata": {
      "byteLimit": 2048000,
      "rowLimit": 10000
     },
     "inputWidgets": {},
     "nuid": "62331644-55ae-4870-a501-218fabc74f05",
     "showTitle": false,
     "title": ""
    }
   },
   "outputs": [],
   "source": [
    "len(themes.query('Cluster == 0'))"
   ]
  },
  {
   "cell_type": "code",
   "execution_count": 0,
   "metadata": {
    "application/vnd.databricks.v1+cell": {
     "cellMetadata": {},
     "inputWidgets": {},
     "nuid": "bd1cad13-3417-449a-ab9e-736e619d306a",
     "showTitle": false,
     "title": ""
    }
   },
   "outputs": [],
   "source": [
    "# df.count()\n",
    "# 54912 themes"
   ]
  },
  {
   "cell_type": "markdown",
   "metadata": {
    "application/vnd.databricks.v1+cell": {
     "cellMetadata": {
      "byteLimit": 2048000,
      "rowLimit": 10000
     },
     "inputWidgets": {},
     "nuid": "17c3dad7-079a-4787-aa93-5a83bd99386b",
     "showTitle": false,
     "title": ""
    }
   },
   "source": [
    "## Word2Vec Approach\n"
   ]
  },
  {
   "cell_type": "code",
   "execution_count": 0,
   "metadata": {
    "application/vnd.databricks.v1+cell": {
     "cellMetadata": {
      "byteLimit": 2048000,
      "rowLimit": 10000
     },
     "inputWidgets": {},
     "nuid": "230627e5-c2fb-4589-9c9d-6a74a16bf02d",
     "showTitle": false,
     "title": ""
    }
   },
   "outputs": [],
   "source": [
    "%pip install nltk"
   ]
  },
  {
   "cell_type": "code",
   "execution_count": 0,
   "metadata": {
    "application/vnd.databricks.v1+cell": {
     "cellMetadata": {
      "byteLimit": 2048000,
      "rowLimit": 10000
     },
     "inputWidgets": {},
     "nuid": "f5121c60-8c28-400d-94df-0f527b78cc7f",
     "showTitle": false,
     "title": ""
    }
   },
   "outputs": [],
   "source": [
    "import nltk\n",
    "from nltk.corpus import stopwords\n",
    "from nltk.tokenize import word_tokenize\n",
    "from nltk.stem import PorterStemmer"
   ]
  },
  {
   "cell_type": "code",
   "execution_count": 0,
   "metadata": {
    "application/vnd.databricks.v1+cell": {
     "cellMetadata": {
      "byteLimit": 2048000,
      "rowLimit": 10000
     },
     "inputWidgets": {},
     "nuid": "bc5e4d86-557a-418b-8f49-9b25524a2ec8",
     "showTitle": false,
     "title": ""
    }
   },
   "outputs": [],
   "source": [
    "nltk.download('punkt')\n",
    "nltk.download('stopwords')"
   ]
  },
  {
   "cell_type": "code",
   "execution_count": 0,
   "metadata": {
    "application/vnd.databricks.v1+cell": {
     "cellMetadata": {
      "byteLimit": 2048000,
      "rowLimit": 10000
     },
     "inputWidgets": {},
     "nuid": "19ce02be-3aeb-4e1a-8121-b5c430aa644b",
     "showTitle": false,
     "title": ""
    }
   },
   "outputs": [],
   "source": [
    "codes = themes_list.copy()\n",
    "\n",
    "# Descomposición por el separador \"_\"\n",
    "tokenized_codes = [code.split('_') for code in codes]\n",
    "\n",
    "print(tokenized_codes)"
   ]
  },
  {
   "cell_type": "code",
   "execution_count": 0,
   "metadata": {
    "application/vnd.databricks.v1+cell": {
     "cellMetadata": {
      "byteLimit": 2048000,
      "rowLimit": 10000
     },
     "inputWidgets": {},
     "nuid": "a0affcd4-4bab-41bc-ac54-a44d1905a51b",
     "showTitle": false,
     "title": ""
    }
   },
   "outputs": [],
   "source": [
    "from nltk.corpus import stopwords\n",
    "# Lista de stopwords y palabras a eliminar\n",
    "\n",
    "# Descargar las stopwords de NLTK si no las tienes ya\n",
    "nltk.download('stopwords')\n",
    "\n",
    "# Obtener la lista de stopwords en inglés y agregar 'TAX'\n",
    "stopwords_list = set(word.upper() for word in stopwords.words('english')) \n",
    "custom_stopwords = {'TAX', 'GENERAL', 'WB', 'EPU', 'USPEC', 'CRISISLEX'}\n",
    "\n",
    "# Combina las stopwords de NLTK con las custom stopwords\n",
    "all_stopwords = stopwords_list.union(custom_stopwords)\n",
    "\n",
    "# Filtrar las listas eliminando las stopwords y la palabra 'TAX'\n",
    "filtered_codes = [[word for word in code if word.upper() not in all_stopwords] for code in tokenized_codes]\n",
    "\n",
    "print(filtered_codes)\n"
   ]
  },
  {
   "cell_type": "code",
   "execution_count": 0,
   "metadata": {
    "application/vnd.databricks.v1+cell": {
     "cellMetadata": {
      "byteLimit": 2048000,
      "rowLimit": 10000
     },
     "inputWidgets": {},
     "nuid": "16a8ad3e-159e-4006-89e7-f0c8ec702715",
     "showTitle": false,
     "title": ""
    }
   },
   "outputs": [],
   "source": [
    "%pip install gensim"
   ]
  },
  {
   "cell_type": "code",
   "execution_count": 0,
   "metadata": {
    "application/vnd.databricks.v1+cell": {
     "cellMetadata": {
      "byteLimit": 2048000,
      "rowLimit": 10000
     },
     "inputWidgets": {},
     "nuid": "a9e4968e-5970-49f4-8457-df2aac62cc25",
     "showTitle": false,
     "title": ""
    }
   },
   "outputs": [],
   "source": [
    "from gensim.models import Word2Vec\n",
    "\n",
    "# Entrenamiento del modelo Word2Vec\n",
    "model = Word2Vec(sentences=filtered_codes, vector_size=100, window=5, min_count=1, sg=0)\n"
   ]
  },
  {
   "cell_type": "code",
   "execution_count": 0,
   "metadata": {
    "application/vnd.databricks.v1+cell": {
     "cellMetadata": {
      "byteLimit": 2048000,
      "rowLimit": 10000
     },
     "inputWidgets": {},
     "nuid": "75b2d046-d75a-49ed-b608-007dd2f1fceb",
     "showTitle": false,
     "title": ""
    }
   },
   "outputs": [],
   "source": [
    "def get_vector_for_code(code, model):\n",
    "    # Obtener vectores de palabras para cada palabra en el código\n",
    "    vectors = [model.wv[word] for word in code if word in model.wv]\n",
    "    if len(vectors) == 0:\n",
    "        return np.zeros(model.vector_size)\n",
    "    return np.mean(vectors, axis=0)\n",
    "\n",
    "# Obtener vectores para todos los códigos\n",
    "vectors = np.array([get_vector_for_code(code, model) for code in filtered_codes])"
   ]
  },
  {
   "cell_type": "code",
   "execution_count": 0,
   "metadata": {
    "application/vnd.databricks.v1+cell": {
     "cellMetadata": {
      "byteLimit": 2048000,
      "rowLimit": 10000
     },
     "inputWidgets": {},
     "nuid": "2859b06a-1ab2-4b25-a2b3-42e5a2b829e3",
     "showTitle": false,
     "title": ""
    }
   },
   "outputs": [],
   "source": [
    "# Número de clusters\n",
    "n_clusters = 3  # Ajusta este valor según sea necesario\n",
    "\n",
    "# Aplicar K-Means\n",
    "kmeans = KMeans(n_clusters=n_clusters, random_state=42)\n",
    "clusters = kmeans.fit_predict(vectors)\n",
    "\n",
    "# Agregar los clusters a los códigos\n",
    "clustered_codes = list(zip(filtered_codes, clusters))"
   ]
  },
  {
   "cell_type": "code",
   "execution_count": 0,
   "metadata": {
    "application/vnd.databricks.v1+cell": {
     "cellMetadata": {
      "byteLimit": 2048000,
      "rowLimit": 10000
     },
     "inputWidgets": {},
     "nuid": "9abbb9a6-13c4-492f-b8d0-d0412a0e57ec",
     "showTitle": false,
     "title": ""
    }
   },
   "outputs": [],
   "source": [
    "import seaborn as sns\n",
    "#Reducción a 2D con t-SNE\n",
    "tsne = TSNE(n_components=2, random_state=42)\n",
    "tsne_result = tsne.fit_transform(vectors)\n",
    "\n",
    "df = pd.DataFrame(tsne_result, columns=['Dimension 1', 'Dimension 2'])\n",
    "df['Cluster'] = clusters\n",
    "\n",
    "# Visualización\n",
    "plt.figure(figsize=(10, 8))\n",
    "sns.scatterplot(x='Dimension 1', y='Dimension 2', hue='Cluster', palette='viridis', data=df, s=100, alpha=0.7)\n",
    "plt.title('Visualización de Clusters usando t-SNE')\n",
    "plt.legend(title='Cluster')\n",
    "plt.show()\n"
   ]
  },
  {
   "cell_type": "code",
   "execution_count": 0,
   "metadata": {
    "application/vnd.databricks.v1+cell": {
     "cellMetadata": {
      "byteLimit": 2048000,
      "rowLimit": 10000
     },
     "inputWidgets": {},
     "nuid": "85920930-5115-4f8a-b14b-2dccd54eca38",
     "showTitle": false,
     "title": ""
    }
   },
   "outputs": [],
   "source": [
    "from sklearn.decomposition import PCA\n",
    "from mpl_toolkits.mplot3d import Axes3D\n",
    "\n",
    "# Aplicar PCA para reducir a 3D\n",
    "pca = PCA(n_components=3)\n",
    "reduced_vectors_3d = pca.fit_transform(vectors)\n",
    "\n",
    "# Crear el gráfico 3D\n",
    "fig = plt.figure(figsize=(10, 7))\n",
    "ax = fig.add_subplot(111, projection='3d')\n",
    "scatter = ax.scatter(reduced_vectors_3d[:, 0], reduced_vectors_3d[:, 1], reduced_vectors_3d[:, 2], c=clusters, cmap='viridis', marker='o')\n",
    "\n",
    "# Agregar una barra de color para mostrar las etiquetas de cluster\n",
    "plt.colorbar(scatter)\n",
    "\n",
    "# Agregar etiquetas y título\n",
    "ax.set_xlabel('Componente 1')\n",
    "ax.set_ylabel('Componente 2')\n",
    "ax.set_zlabel('Componente 3')\n",
    "ax.set_title('Visualización de Clusters en 3D')\n",
    "\n",
    "# Mostrar el gráfico\n",
    "plt.show()"
   ]
  },
  {
   "cell_type": "code",
   "execution_count": 0,
   "metadata": {
    "application/vnd.databricks.v1+cell": {
     "cellMetadata": {
      "batchId": -2349028709753043,
      "byteLimit": 2048000,
      "rowLimit": 10000
     },
     "inputWidgets": {},
     "nuid": "4d19f727-f317-49e3-ba46-eb05f7d9aa77",
     "showTitle": false,
     "title": ""
    }
   },
   "outputs": [],
   "source": [
    "from collections import Counter\n",
    "import pandas as pd\n",
    "\n",
    "# Crear un DataFrame con los códigos y sus respectivos clusters\n",
    "df = pd.DataFrame({'Code': filtered_codes, 'Cluster': clusters})\n",
    "\n",
    "# Crear un diccionario para contar las palabras en cada cluster\n",
    "cluster_word_counts = {}\n",
    "\n",
    "for cluster_id in range(n_clusters):\n",
    "    # Obtener todos los temas en el cluster\n",
    "    cluster_codes = df[df['Cluster'] == cluster_id]['Code']\n",
    "    \n",
    "    # Aplanar la lista de listas de temas en una sola lista de palabras\n",
    "    all_words = [word for code in cluster_codes for word in code]\n",
    "    \n",
    "    # Contar las palabras\n",
    "    word_counts = Counter(all_words)\n",
    "    \n",
    "    # Guardar el conteo en el diccionario\n",
    "    cluster_word_counts[cluster_id] = word_counts\n",
    "\n",
    "# Mostrar las palabras más comunes en cada cluster\n",
    "for cluster_id, word_counts in cluster_word_counts.items():\n",
    "    print(f\"Cluster {cluster_id}:\")\n",
    "    for word, count in word_counts.most_common(10):  # Mostrar las 10 palabras más comunes\n",
    "        print(f\"  {word}: {count}\")\n",
    "    print()"
   ]
  },
  {
   "cell_type": "code",
   "execution_count": 0,
   "metadata": {
    "application/vnd.databricks.v1+cell": {
     "cellMetadata": {
      "batchId": -2349028709753043,
      "byteLimit": 2048000,
      "rowLimit": 10000
     },
     "inputWidgets": {},
     "nuid": "f5278770-3c39-49fc-b55a-703ce1d64824",
     "showTitle": false,
     "title": ""
    }
   },
   "outputs": [],
   "source": [
    "\n",
    "# Crear un DataFrame con los códigos y sus respectivos clusters\n",
    "df = pd.DataFrame({'Code': filtered_codes, 'Cluster': clusters})\n",
    "\n",
    "# Crear un diccionario que mapea los clusters a los nombres deseados\n",
    "cluster_names = {\n",
    "    0: 'ECONOMIC',   # Ajusta los números según tus clusters\n",
    "    1: 'POLITICAL',\n",
    "    2: 'SOCIAL'\n",
    "}\n",
    "\n",
    "# Reemplazar los identificadores de cluster por los nombres\n",
    "df['Cluster_Name'] = df['Cluster'].map(cluster_names)\n",
    "\n",
    "# Mostrar el DataFrame con los nombres de los clusters\n",
    "print(df.head())\n",
    "\n",
    "# Opcional: Contar las palabras en cada nuevo cluster con nombre\n",
    "cluster_word_counts = {}\n",
    "for cluster_name in cluster_names.values():\n",
    "    # Obtener todos los temas en el cluster\n",
    "    cluster_codes = df[df['Cluster_Name'] == cluster_name]['Code']\n",
    "    \n",
    "    # Aplanar la lista de listas de temas en una sola lista de palabras\n",
    "    all_words = [word for code in cluster_codes for word in code]\n",
    "    \n",
    "    # Contar las palabras\n",
    "    word_counts = Counter(all_words)\n",
    "    \n",
    "    # Guardar el conteo en el diccionario\n",
    "    cluster_word_counts[cluster_name] = word_counts\n",
    "\n",
    "# Mostrar las palabras más comunes en cada nuevo cluster\n",
    "for cluster_name, word_counts in cluster_word_counts.items():\n",
    "    print(f\"Cluster '{cluster_name}':\")\n",
    "    for word, count in word_counts.most_common(10):  # Mostrar las 10 palabras más comunes\n",
    "        print(f\"  {word}: {count}\")\n",
    "    print()"
   ]
  },
  {
   "cell_type": "code",
   "execution_count": 0,
   "metadata": {
    "application/vnd.databricks.v1+cell": {
     "cellMetadata": {
      "batchId": -2349028709753043,
      "byteLimit": 2048000,
      "rowLimit": 10000
     },
     "inputWidgets": {},
     "nuid": "a5a0306c-afe6-4c21-b96e-fd1fe9911115",
     "showTitle": false,
     "title": ""
    }
   },
   "outputs": [],
   "source": [
    "import pandas as pd\n",
    "\n",
    "# Crear un DataFrame con los temas y sus respectivos clusters\n",
    "df_clusters = pd.DataFrame({'THEMES_EXPLODED': themes_list, 'Cluster': clusters})\n",
    "\n",
    "# Crear un diccionario para mapear los códigos a los nombres de clusters\n",
    "cluster_names = {\n",
    "    0: 'ECONOMIC',   # Ajusta los números según tus clusters\n",
    "    1: 'SOCIAL',\n",
    "    2: 'POLITICAL'\n",
    "}\n",
    "\n",
    "# Mapea el identificador del cluster al nombre\n",
    "df_clusters['Cluster_Name'] = df_clusters['Cluster'].map(cluster_names)\n",
    "\n",
    "# Crear un diccionario de mapeo de THEMES_EXPLODED a Cluster_Name\n",
    "themes_mapping = df_clusters.set_index('THEMES_EXPLODED')['Cluster_Name'].to_dict()\n",
    "\n",
    "# Agregar la columna Cluster_Name al DataFrame original 'themes'\n",
    "themes['Cluster_Name'] = themes['THEMES_EXPLODED'].map(themes_mapping)\n",
    "\n",
    "# Mostrar el DataFrame con la nueva columna\n",
    "print(themes.head())\n",
    "\n"
   ]
  },
  {
   "cell_type": "markdown",
   "metadata": {
    "application/vnd.databricks.v1+cell": {
     "cellMetadata": {
      "byteLimit": 2048000,
      "rowLimit": 10000
     },
     "inputWidgets": {},
     "nuid": "a8e1bc68-840d-4d49-aefe-f164f25a4088",
     "showTitle": false,
     "title": ""
    }
   },
   "source": [
    "##Labeling improved\n"
   ]
  },
  {
   "cell_type": "code",
   "execution_count": 0,
   "metadata": {
    "application/vnd.databricks.v1+cell": {
     "cellMetadata": {
      "batchId": -2349028709753043,
      "byteLimit": 2048000,
      "rowLimit": 10000
     },
     "inputWidgets": {},
     "nuid": "2aea9a0c-fece-403b-a3ad-06bd03e41af8",
     "showTitle": false,
     "title": ""
    }
   },
   "outputs": [],
   "source": [
    "# Función para obtener el vector promedio de un código\n",
    "def get_code_vector(code):\n",
    "    parts = code.split('_')\n",
    "    vectors = [model.wv[part] for part in parts if part in model.wv]\n",
    "    if vectors:\n",
    "        return np.mean(vectors, axis=0)\n",
    "    else:\n",
    "        return np.zeros(model.vector_size)  # Vector cero si no hay tokens en el vocabulario\n",
    "\n",
    "# Ejemplo de uso\n",
    "vector_soc_generalcrime = get_code_vector('SOC_GENERALCRIME')\n",
    "vector_arrest = get_code_vector('ARREST')"
   ]
  },
  {
   "cell_type": "code",
   "execution_count": 0,
   "metadata": {
    "application/vnd.databricks.v1+cell": {
     "cellMetadata": {
      "batchId": -2349028709753043,
      "byteLimit": 2048000,
      "rowLimit": 10000
     },
     "inputWidgets": {},
     "nuid": "35041610-6b89-4337-865c-d25714902678",
     "showTitle": false,
     "title": ""
    }
   },
   "outputs": [],
   "source": [
    "df = pd.DataFrame(tsne_result, columns=['Dimension 1', 'Dimension 2'])\n",
    "df['Cluster'] = clusters\n",
    "\n",
    "# Visualización\n",
    "plt.figure(figsize=(10, 8))\n",
    "sns.scatterplot(x='Dimension 1', y='Dimension 2', hue='Cluster', palette='viridis', data=df, s=100, alpha=0.7)\n",
    "plt.title('Visualización de Clusters usando t-SNE')\n",
    "plt.legend(title='Cluster')\n",
    "plt.show()"
   ]
  },
  {
   "cell_type": "code",
   "execution_count": 0,
   "metadata": {
    "application/vnd.databricks.v1+cell": {
     "cellMetadata": {
      "batchId": -2349028709753043,
      "byteLimit": 2048000,
      "rowLimit": 10000
     },
     "inputWidgets": {},
     "nuid": "86d4a4d1-ff5c-4d16-ada6-6d6b38c060c0",
     "showTitle": false,
     "title": ""
    }
   },
   "outputs": [],
   "source": [
    "from sklearn.cluster import KMeans\n",
    "\n",
    "# Supón que `all_vectors` es una lista de todos los vectores de tus códigos\n",
    "all_vectors = [\n",
    "    get_code_vector(code) for code in codes\n",
    "]\n",
    "\n",
    "# Número de clústeres (ajusta según tus necesidades)\n",
    "num_clusters = 5\n",
    "\n",
    "# Entrenamiento del modelo K-means\n",
    "kmeans = KMeans(n_clusters=num_clusters, random_state=0).fit(all_vectors)\n",
    "\n",
    "# Asignación de etiquetas a cada código\n",
    "labels = kmeans.labels_\n",
    "\n",
    "print(labels)"
   ]
  },
  {
   "cell_type": "code",
   "execution_count": 0,
   "metadata": {
    "application/vnd.databricks.v1+cell": {
     "cellMetadata": {
      "batchId": -2349028709753043,
      "byteLimit": 2048000,
      "rowLimit": 10000
     },
     "inputWidgets": {},
     "nuid": "4282d159-e1ae-48cc-a589-19ee5b674804",
     "showTitle": false,
     "title": ""
    }
   },
   "outputs": [],
   "source": [
    "labels_df = pd.DataFrame(labels, columns=['Cluster'])\n",
    "\n",
    "# Contar los valores de cada cluster\n",
    "label_counts = labels_df['Cluster'].value_counts()\n",
    "\n",
    "# Mostrar los resultados\n",
    "label_counts"
   ]
  },
  {
   "cell_type": "code",
   "execution_count": 0,
   "metadata": {
    "application/vnd.databricks.v1+cell": {
     "cellMetadata": {
      "batchId": -2349028709753043,
      "byteLimit": 2048000,
      "rowLimit": 10000
     },
     "inputWidgets": {},
     "nuid": "f8ae9d9e-9427-436f-b25e-edc68bb3e29b",
     "showTitle": false,
     "title": ""
    }
   },
   "outputs": [],
   "source": [
    "from sklearn.manifold import TSNE\n",
    "import matplotlib.pyplot as plt\n",
    "\n",
    "# Supón que `all_vectors` es una lista de todos los vectores de tus códigos\n",
    "all_vectors = [\n",
    "    get_code_vector(code) for code in codes\n",
    "]\n",
    "\n",
    "# Aplicar t-SNE para reducir la dimensionalidad\n",
    "tsne = TSNE(n_components=2, random_state=0)\n",
    "reduced_vectors = tsne.fit_transform(all_vectors)"
   ]
  },
  {
   "cell_type": "code",
   "execution_count": 0,
   "metadata": {
    "application/vnd.databricks.v1+cell": {
     "cellMetadata": {
      "batchId": -2349028709753043,
      "byteLimit": 2048000,
      "rowLimit": 10000
     },
     "inputWidgets": {},
     "nuid": "9ae04c17-0a89-464d-9ff4-6f21b621568f",
     "showTitle": false,
     "title": ""
    }
   },
   "outputs": [],
   "source": [
    "# Supón que `labels` es una lista de etiquetas de cluster para cada código\n",
    "labels = kmeans.labels_\n",
    "\n",
    "# Crear el gráfico\n",
    "plt.figure(figsize=(10, 7))\n",
    "scatter = plt.scatter(reduced_vectors[:, 0], reduced_vectors[:, 1], c=labels, cmap='viridis', marker='o')\n",
    "\n",
    "# Agregar una barra de color para mostrar las etiquetas de cluster\n",
    "plt.colorbar(scatter)\n",
    "\n",
    "# Agregar etiquetas y título\n",
    "plt.xlabel('Componente 1')\n",
    "plt.ylabel('Componente 2')\n",
    "plt.title('Visualización de Clusters con t-SNE')\n",
    "\n",
    "# Mostrar el gráfico\n",
    "plt.show()"
   ]
  },
  {
   "cell_type": "code",
   "execution_count": 0,
   "metadata": {
    "application/vnd.databricks.v1+cell": {
     "cellMetadata": {
      "batchId": -2349028709753043,
      "byteLimit": 2048000,
      "rowLimit": 10000
     },
     "inputWidgets": {},
     "nuid": "fb5ee9f8-2292-47a2-b2ce-bfd26f361abe",
     "showTitle": false,
     "title": ""
    }
   },
   "outputs": [],
   "source": [
    "from sklearn.decomposition import PCA\n",
    "from mpl_toolkits.mplot3d import Axes3D\n",
    "\n",
    "# Aplicar PCA para reducir a 3D\n",
    "pca = PCA(n_components=3)\n",
    "reduced_vectors_3d = pca.fit_transform(all_vectors)\n",
    "\n",
    "# Crear el gráfico 3D\n",
    "fig = plt.figure(figsize=(10, 7))\n",
    "ax = fig.add_subplot(111, projection='3d')\n",
    "scatter = ax.scatter(reduced_vectors_3d[:, 0], reduced_vectors_3d[:, 1], reduced_vectors_3d[:, 2], c=labels, cmap='viridis', marker='o')\n",
    "\n",
    "# Agregar una barra de color para mostrar las etiquetas de cluster\n",
    "plt.colorbar(scatter)\n",
    "\n",
    "# Agregar etiquetas y título\n",
    "ax.set_xlabel('Componente 1')\n",
    "ax.set_ylabel('Componente 2')\n",
    "ax.set_zlabel('Componente 3')\n",
    "ax.set_title('Visualización de Clusters en 3D')\n",
    "\n",
    "# Mostrar el gráfico\n",
    "plt.show()"
   ]
  },
  {
   "cell_type": "code",
   "execution_count": 0,
   "metadata": {
    "application/vnd.databricks.v1+cell": {
     "cellMetadata": {
      "batchId": -2349028709753043,
      "byteLimit": 2048000,
      "rowLimit": 10000
     },
     "inputWidgets": {},
     "nuid": "01f5fd58-b226-429d-a195-a2e99503e834",
     "showTitle": false,
     "title": ""
    }
   },
   "outputs": [],
   "source": [
    "from collections import Counter\n",
    "import numpy as np\n",
    "\n",
    "# Supón que `tokenized_codes` es la lista de listas de tokens obtenida anteriormente\n",
    "# y `labels` es la lista de etiquetas de clúster para cada código\n",
    "\n",
    "# Crear un diccionario para almacenar las palabras por clúster\n",
    "cluster_words = {i: [] for i in set(labels)}\n",
    "\n",
    "# Rellenar el diccionario con las palabras de cada clúster\n",
    "for code, label in zip(tokenized_codes, labels):\n",
    "    cluster_words[label].extend(code)\n",
    "\n",
    "# Contar la frecuencia de cada palabra en cada clúster\n",
    "cluster_word_counts = {cluster: Counter(words) for cluster, words in cluster_words.items()}\n",
    "\n",
    "# Encontrar las 5 palabras más frecuentes en cada clúster\n",
    "top_words = {cluster: counter.most_common(5) for cluster, counter in cluster_word_counts.items()}\n",
    "\n",
    "# Imprimir los resultados\n",
    "for cluster, words in top_words.items():\n",
    "    print(f'Cluster {cluster}:')\n",
    "    for word, freq in words:\n",
    "        print(f'  \"{word}\" con frecuencia {freq}')\n",
    "    print()\n"
   ]
  }
 ],
 "metadata": {
  "application/vnd.databricks.v1+notebook": {
   "dashboards": [],
   "environmentMetadata": null,
   "language": "python",
   "notebookMetadata": {
    "pythonIndentUnit": 4
   },
   "notebookName": "gkg_themes_labeling_evaluation",
   "widgets": {}
  }
 },
 "nbformat": 4,
 "nbformat_minor": 0
}
