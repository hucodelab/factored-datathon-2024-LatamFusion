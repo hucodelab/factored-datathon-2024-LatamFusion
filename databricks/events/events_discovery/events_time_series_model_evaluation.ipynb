{
 "cells": [
  {
   "cell_type": "markdown",
   "metadata": {
    "application/vnd.databricks.v1+cell": {
     "cellMetadata": {
      "byteLimit": 2048000,
      "rowLimit": 10000
     },
     "inputWidgets": {},
     "nuid": "94827883-6168-4ad9-b1f8-ca3387d38f1e",
     "showTitle": false,
     "title": ""
    }
   },
   "source": [
    "## 1. Connection with Azure and Spark (DELETE KEYS!)\n"
   ]
  },
  {
   "cell_type": "code",
   "execution_count": 0,
   "metadata": {
    "application/vnd.databricks.v1+cell": {
     "cellMetadata": {
      "byteLimit": 2048000,
      "rowLimit": 10000
     },
     "inputWidgets": {},
     "nuid": "0bfed5fc-37e8-4ce2-86d0-891c8e2062fc",
     "showTitle": false,
     "title": ""
    }
   },
   "outputs": [],
   "source": [
    "storage_account_key = \"wgbe0Fzs4W3dPNc35dp//uumz+SPDXVLLGu0mNaxTs2VLHCCPnD7u79PYt4mKeSFboqMRnZ+s+ez+ASty+k+sQ==\"\n",
    "storage_account_name = \"factoredatathon2024\"\n",
    "container_name = \"gold\"\n",
    "\n",
    "spark.conf.set(\n",
    "    f\"fs.azure.account.key.{storage_account_name}.blob.core.windows.net\",\n",
    "    f\"{storage_account_key}\"\n",
    ")\n",
    "\n",
    "file_path = f\"wasbs://{container_name}@{storage_account_name}.blob.core.windows.net/weightedAvgGoldsteinToneGold.csv\"\n",
    "df = spark.read.format(\"csv\").option(\"header\", \"false\").load(file_path)"
   ]
  },
  {
   "cell_type": "markdown",
   "metadata": {
    "application/vnd.databricks.v1+cell": {
     "cellMetadata": {
      "byteLimit": 2048000,
      "rowLimit": 10000
     },
     "inputWidgets": {},
     "nuid": "6f752584-72da-4ee4-b8b5-8d35b79293e0",
     "showTitle": false,
     "title": ""
    }
   },
   "source": [
    "## 2.Library Imports:\n"
   ]
  },
  {
   "cell_type": "code",
   "execution_count": 0,
   "metadata": {
    "application/vnd.databricks.v1+cell": {
     "cellMetadata": {
      "byteLimit": 2048000,
      "rowLimit": 10000
     },
     "inputWidgets": {},
     "nuid": "a7ea8770-15ca-4b24-a6bf-55588637bccb",
     "showTitle": false,
     "title": ""
    }
   },
   "outputs": [],
   "source": [
    "%pip install xgboost"
   ]
  },
  {
   "cell_type": "code",
   "execution_count": 0,
   "metadata": {
    "application/vnd.databricks.v1+cell": {
     "cellMetadata": {
      "byteLimit": 2048000,
      "rowLimit": 10000
     },
     "inputWidgets": {},
     "nuid": "8746bb45-f1c5-442b-8b12-d27d03ac278e",
     "showTitle": false,
     "title": ""
    }
   },
   "outputs": [],
   "source": [
    "from sklearn.model_selection import train_test_split\n",
    "from sklearn.ensemble import RandomForestRegressor\n",
    "from sklearn.metrics import mean_squared_error, mean_absolute_error, r2_score\n",
    "import numpy as np\n",
    "import pandas as pd\n",
    "import matplotlib.pyplot as plt\n",
    "import xgboost as xgb\n",
    "from statsmodels.tsa.arima.model import ARIMA\n",
    "\n",
    "     "
   ]
  },
  {
   "cell_type": "code",
   "execution_count": 0,
   "metadata": {
    "application/vnd.databricks.v1+cell": {
     "cellMetadata": {
      "byteLimit": 2048000,
      "rowLimit": 10000
     },
     "inputWidgets": {},
     "nuid": "d4f75ef1-590d-4c7b-8993-d91df3b63129",
     "showTitle": false,
     "title": ""
    }
   },
   "outputs": [],
   "source": [
    "column_names = [\"DATE\", \"Country\", \"GoldsteinScaleWA\",\"ToneWA\"]\n",
    "df = df.toDF(*column_names)\n",
    "events = df.toPandas()\n",
    "\n",
    "display(events)"
   ]
  },
  {
   "cell_type": "code",
   "execution_count": 0,
   "metadata": {
    "application/vnd.databricks.v1+cell": {
     "cellMetadata": {
      "byteLimit": 2048000,
      "rowLimit": 10000
     },
     "inputWidgets": {},
     "nuid": "3e5e132d-4316-438a-a9b5-d355a8f8490e",
     "showTitle": false,
     "title": ""
    }
   },
   "outputs": [],
   "source": [
    "events.value_counts('Country')"
   ]
  },
  {
   "cell_type": "markdown",
   "metadata": {
    "application/vnd.databricks.v1+cell": {
     "cellMetadata": {
      "byteLimit": 2048000,
      "rowLimit": 10000
     },
     "inputWidgets": {},
     "nuid": "ff9af440-13e9-4946-808c-686569bae54e",
     "showTitle": false,
     "title": ""
    }
   },
   "source": [
    "## First Study Case\n",
    "    "
   ]
  },
  {
   "cell_type": "code",
   "execution_count": 0,
   "metadata": {
    "application/vnd.databricks.v1+cell": {
     "cellMetadata": {
      "byteLimit": 2048000,
      "rowLimit": 10000
     },
     "inputWidgets": {},
     "nuid": "50a8785f-66b6-4cbe-9f87-49ab9d32a903",
     "showTitle": false,
     "title": ""
    }
   },
   "outputs": [],
   "source": [
    "country_selected = 'CH' # Replace 'CH' with the name of the country you want to filter\n",
    "events_filtered = events[events.Country == country_selected].copy()"
   ]
  },
  {
   "cell_type": "code",
   "execution_count": 0,
   "metadata": {
    "application/vnd.databricks.v1+cell": {
     "cellMetadata": {
      "byteLimit": 2048000,
      "rowLimit": 10000
     },
     "inputWidgets": {},
     "nuid": "81a12963-7cba-4d29-97c7-a3c4646bcf92",
     "showTitle": false,
     "title": ""
    }
   },
   "outputs": [],
   "source": [
    "events_filtered['DATE'] = pd.to_datetime(events_filtered['DATE'])\n",
    "events_filtered.set_index('DATE', inplace=True)"
   ]
  },
  {
   "cell_type": "code",
   "execution_count": 0,
   "metadata": {
    "application/vnd.databricks.v1+cell": {
     "cellMetadata": {
      "byteLimit": 2048000,
      "rowLimit": 10000
     },
     "inputWidgets": {},
     "nuid": "6c5850ed-c6b9-4127-b98d-7a92d2f8e7b7",
     "showTitle": false,
     "title": ""
    }
   },
   "outputs": [],
   "source": [
    "#temp variables\n",
    "#events_filtered.DATE = pd.DatetimeIndex(events_filtered.DATE)\n",
    "#events_filtered['DATE'].dtype\n"
   ]
  },
  {
   "cell_type": "code",
   "execution_count": 0,
   "metadata": {
    "application/vnd.databricks.v1+cell": {
     "cellMetadata": {
      "byteLimit": 2048000,
      "rowLimit": 10000
     },
     "inputWidgets": {},
     "nuid": "48a40e39-dc92-4b71-a901-a8d2aee881a1",
     "showTitle": false,
     "title": ""
    }
   },
   "outputs": [],
   "source": [
    "events_filtered.head()"
   ]
  },
  {
   "cell_type": "code",
   "execution_count": 0,
   "metadata": {
    "application/vnd.databricks.v1+cell": {
     "cellMetadata": {
      "byteLimit": 2048000,
      "rowLimit": 10000
     },
     "inputWidgets": {},
     "nuid": "0ec40f48-2fb4-4e77-bed8-180525863bee",
     "showTitle": false,
     "title": ""
    }
   },
   "outputs": [],
   "source": [
    "#events_filtered.index=pd.DatetimeIndex(events_filtered['DATE'], freq='D')\n",
    "#events_filtered.drop(columns=['DATE'], inplace=True)"
   ]
  },
  {
   "cell_type": "code",
   "execution_count": 0,
   "metadata": {
    "application/vnd.databricks.v1+cell": {
     "cellMetadata": {
      "byteLimit": 2048000,
      "rowLimit": 10000
     },
     "inputWidgets": {},
     "nuid": "461b5085-4314-4f0d-a41e-4d3a89e6dd39",
     "showTitle": false,
     "title": ""
    }
   },
   "outputs": [],
   "source": [
    "events_filtered.head()"
   ]
  },
  {
   "cell_type": "code",
   "execution_count": 0,
   "metadata": {
    "application/vnd.databricks.v1+cell": {
     "cellMetadata": {
      "byteLimit": 2048000,
      "rowLimit": 10000
     },
     "inputWidgets": {},
     "nuid": "64016577-e95a-4402-aa37-c91ddbd16e96",
     "showTitle": false,
     "title": ""
    }
   },
   "outputs": [],
   "source": [
    "events_filtered['GoldsteinScaleWA'] = events_filtered['GoldsteinScaleWA'].astype(float)"
   ]
  },
  {
   "cell_type": "code",
   "execution_count": 0,
   "metadata": {
    "application/vnd.databricks.v1+cell": {
     "cellMetadata": {
      "byteLimit": 2048000,
      "rowLimit": 10000
     },
     "inputWidgets": {},
     "nuid": "e911f86a-81d4-41e5-8023-6ca3e9a802c8",
     "showTitle": false,
     "title": ""
    }
   },
   "outputs": [],
   "source": [
    "events_filtered['ToneWA'] = events_filtered['ToneWA'].astype(float)"
   ]
  },
  {
   "cell_type": "code",
   "execution_count": 0,
   "metadata": {
    "application/vnd.databricks.v1+cell": {
     "cellMetadata": {
      "byteLimit": 2048000,
      "rowLimit": 10000
     },
     "inputWidgets": {},
     "nuid": "e57c7f08-a588-4e65-8208-e1b1e6f7a730",
     "showTitle": false,
     "title": ""
    }
   },
   "outputs": [],
   "source": [
    "events_filtered.dtypes"
   ]
  },
  {
   "cell_type": "code",
   "execution_count": 0,
   "metadata": {
    "application/vnd.databricks.v1+cell": {
     "cellMetadata": {
      "byteLimit": 2048000,
      "rowLimit": 10000
     },
     "inputWidgets": {},
     "nuid": "5a98785a-0184-4cb9-a695-856cf4718cad",
     "showTitle": false,
     "title": ""
    }
   },
   "outputs": [],
   "source": [
    "events_filtered['day'] = events_filtered.index.day\n",
    "events_filtered['week'] = events_filtered.index.week\n",
    "events_filtered['month'] = events_filtered.index.month\n",
    "events_filtered['year'] = events_filtered.index.year\n",
    "events_filtered['day_of_week'] = events_filtered.index.dayofweek"
   ]
  },
  {
   "cell_type": "code",
   "execution_count": 0,
   "metadata": {
    "application/vnd.databricks.v1+cell": {
     "cellMetadata": {
      "byteLimit": 2048000,
      "rowLimit": 10000
     },
     "inputWidgets": {},
     "nuid": "cf22d075-09db-486b-a93c-f67871d9d21b",
     "showTitle": false,
     "title": ""
    }
   },
   "outputs": [],
   "source": [
    "events_filtered.sort_index(ascending=True, inplace=True)\n",
    "events_filtered.head()"
   ]
  },
  {
   "cell_type": "code",
   "execution_count": 0,
   "metadata": {
    "application/vnd.databricks.v1+cell": {
     "cellMetadata": {
      "byteLimit": 2048000,
      "rowLimit": 10000
     },
     "inputWidgets": {},
     "nuid": "d8b99cd3-d180-4ceb-8a15-d4933f34a2f1",
     "showTitle": false,
     "title": ""
    }
   },
   "outputs": [],
   "source": [
    "plt.style.use('ggplot')\n",
    "plt.rcParams['figure.figsize'] = (15, 10)\n",
    "events_filtered.plot(kind = \"line\", y = ['GoldsteinScaleWA']);"
   ]
  },
  {
   "cell_type": "code",
   "execution_count": 0,
   "metadata": {
    "application/vnd.databricks.v1+cell": {
     "cellMetadata": {
      "byteLimit": 2048000,
      "rowLimit": 10000
     },
     "inputWidgets": {},
     "nuid": "02dece2b-6eed-4ef4-92ea-07f13c7e7ece",
     "showTitle": false,
     "title": ""
    }
   },
   "outputs": [],
   "source": [
    "plt.style.use('ggplot')\n",
    "plt.rcParams['figure.figsize'] = (15, 10)\n",
    "events_filtered.plot(kind = \"line\", y = ['ToneWA'], color='blue');"
   ]
  },
  {
   "cell_type": "code",
   "execution_count": 0,
   "metadata": {
    "application/vnd.databricks.v1+cell": {
     "cellMetadata": {
      "byteLimit": 2048000,
      "rowLimit": 10000
     },
     "inputWidgets": {},
     "nuid": "9a41ad1b-a343-4b04-89b5-e0daaeea8c26",
     "showTitle": false,
     "title": ""
    }
   },
   "outputs": [],
   "source": [
    "# lag features \n",
    "events_filtered['GoldsteinScaleWA_lag1'] = events_filtered['GoldsteinScaleWA'].shift(1)\n",
    "events_filtered['GoldsteinScaleWA_lag7'] = events_filtered['GoldsteinScaleWA'].shift(7)\n",
    "events_filtered['GoldsteinScaleWA_lag30'] = events_filtered['GoldsteinScaleWA'].shift(30)\n",
    "events_filtered['ToneWA_lag1'] = events_filtered['ToneWA'].shift(1)"
   ]
  },
  {
   "cell_type": "code",
   "execution_count": 0,
   "metadata": {
    "application/vnd.databricks.v1+cell": {
     "cellMetadata": {
      "byteLimit": 2048000,
      "rowLimit": 10000
     },
     "inputWidgets": {},
     "nuid": "4f0df211-49ed-4415-8660-b44d77fad19c",
     "showTitle": false,
     "title": ""
    }
   },
   "outputs": [],
   "source": [
    "# movil windows features \n",
    "events_filtered['GoldsteinScaleWA_roll7'] = events_filtered['GoldsteinScaleWA'].rolling(window=7).mean()\n",
    "events_filtered['ToneWA_roll7'] = events_filtered['ToneWA'].rolling(window=7).mean()"
   ]
  },
  {
   "cell_type": "code",
   "execution_count": 0,
   "metadata": {
    "application/vnd.databricks.v1+cell": {
     "cellMetadata": {
      "byteLimit": 2048000,
      "rowLimit": 10000
     },
     "inputWidgets": {},
     "nuid": "4b873c05-7667-452c-9433-4b44fc015889",
     "showTitle": false,
     "title": ""
    }
   },
   "outputs": [],
   "source": [
    "events_filtered.dropna(inplace=True)"
   ]
  },
  {
   "cell_type": "code",
   "execution_count": 0,
   "metadata": {
    "application/vnd.databricks.v1+cell": {
     "cellMetadata": {
      "byteLimit": 2048000,
      "rowLimit": 10000
     },
     "inputWidgets": {},
     "nuid": "e6354f21-4baa-4942-9876-71c2ffd366ee",
     "showTitle": false,
     "title": ""
    }
   },
   "outputs": [],
   "source": [
    "\n",
    "X = events_filtered[['day', 'week', 'month', 'year', 'day_of_week', 'GoldsteinScaleWA_lag1','GoldsteinScaleWA_lag7','GoldsteinScaleWA_lag30', 'ToneWA_lag1','GoldsteinScaleWA_roll7', 'ToneWA_roll7']]\n",
    "y = events_filtered['GoldsteinScaleWA']\n",
    "\n",
    "X_train, X_test, y_train, y_test = train_test_split(X, y, test_size=0.2, shuffle=False)\n",
    "\n",
    "time_model = RandomForestRegressor(n_estimators=100, random_state=42)\n",
    "time_model.fit(X_train, y_train)"
   ]
  },
  {
   "cell_type": "code",
   "execution_count": 0,
   "metadata": {
    "application/vnd.databricks.v1+cell": {
     "cellMetadata": {
      "byteLimit": 2048000,
      "rowLimit": 10000
     },
     "inputWidgets": {},
     "nuid": "eebc7cf3-1864-4324-9c31-e511a4515934",
     "showTitle": false,
     "title": ""
    }
   },
   "outputs": [],
   "source": [
    "y_pred = time_model.predict(X_test)"
   ]
  },
  {
   "cell_type": "code",
   "execution_count": 0,
   "metadata": {
    "application/vnd.databricks.v1+cell": {
     "cellMetadata": {
      "byteLimit": 2048000,
      "rowLimit": 10000
     },
     "inputWidgets": {},
     "nuid": "ad079f01-2ff5-49a1-8de2-708ad8307d5d",
     "showTitle": false,
     "title": ""
    }
   },
   "outputs": [],
   "source": [
    "mse = mean_squared_error(y_test, y_pred)\n",
    "print(f\"Mean Squared Error: {mse}\")"
   ]
  },
  {
   "cell_type": "code",
   "execution_count": 0,
   "metadata": {
    "application/vnd.databricks.v1+cell": {
     "cellMetadata": {
      "byteLimit": 2048000,
      "rowLimit": 10000
     },
     "inputWidgets": {},
     "nuid": "b2885afd-672d-49d2-92fa-f70ec1ae7da0",
     "showTitle": false,
     "title": ""
    }
   },
   "outputs": [],
   "source": [
    "y_test_pred = time_model.predict(X_test)\n",
    "\n",
    "# Create the combined plot\n",
    "plt.figure(figsize=(14, 7))\n",
    "\n",
    "# Plot the real values of GoldsteinScale in the training set\n",
    "plt.plot(y_train.index, y_train, label='Real Value - Train Set', color='blue')\n",
    "\n",
    "# Plot the predictions of GoldsteinScale in the test set\n",
    "plt.plot(y_test.index, y_test_pred, label='Prediction - Test Set', color='red', linestyle='--')\n",
    "\n",
    "# Plot settings\n",
    "plt.title('GoldsteinScale Trend: Real Values (Train) and Predictions (Test)')\n",
    "plt.xlabel('Date')\n",
    "plt.ylabel('GoldsteinScale')\n",
    "plt.ylim([-5, 5])\n",
    "plt.legend()\n",
    "plt.grid(True)\n",
    "plt.show()\n"
   ]
  },
  {
   "cell_type": "code",
   "execution_count": 0,
   "metadata": {
    "application/vnd.databricks.v1+cell": {
     "cellMetadata": {
      "byteLimit": 2048000,
      "rowLimit": 10000
     },
     "inputWidgets": {},
     "nuid": "709998e5-5ad8-4eb6-a152-cc54f037d06e",
     "showTitle": false,
     "title": ""
    }
   },
   "outputs": [],
   "source": [
    "# Create the combined plot\n",
    "plt.figure(figsize=(14, 7))\n",
    "\n",
    "# Plot the real values of GoldsteinScale in the training set\n",
    "plt.plot(y_train.index, y_train, label='Real Value - Train Set', color='blue')\n",
    "\n",
    "# Plot the predictions of GoldsteinScale in the test set\n",
    "plt.plot(y_test.index, y_test_pred, label='Prediction - Test Set', color='red', linestyle='--')\n",
    "\n",
    "# Plot the real values of GoldsteinScale in the test set\n",
    "plt.plot(y_test.index, y_test, label='Real Value - Test Set', color='green')\n",
    "\n",
    "# Plot settings\n",
    "plt.title('GoldsteinScale Trend: Real Values (Train), Predictions (Test), and Real Values (Test)')\n",
    "plt.xlabel('Date')\n",
    "plt.ylabel('GoldsteinScale')\n",
    "plt.ylim([-5, 5])\n",
    "plt.xlim([pd.Timestamp('2024-05-01'), pd.Timestamp('2024-08-10')])\n",
    "plt.legend()\n",
    "plt.grid(True)\n",
    "plt.show()\n"
   ]
  },
  {
   "cell_type": "code",
   "execution_count": 0,
   "metadata": {
    "application/vnd.databricks.v1+cell": {
     "cellMetadata": {
      "byteLimit": 2048000,
      "rowLimit": 10000
     },
     "inputWidgets": {},
     "nuid": "2579ea7d-521f-4db0-b338-071a72e2764f",
     "showTitle": false,
     "title": ""
    }
   },
   "outputs": [],
   "source": []
  },
  {
   "cell_type": "markdown",
   "metadata": {
    "application/vnd.databricks.v1+cell": {
     "cellMetadata": {
      "byteLimit": 2048000,
      "rowLimit": 10000
     },
     "inputWidgets": {},
     "nuid": "91a9d7cf-2b3e-4b51-b0c3-e5e6a6f98cc5",
     "showTitle": false,
     "title": ""
    }
   },
   "source": [
    "## USA Test:"
   ]
  },
  {
   "cell_type": "code",
   "execution_count": 0,
   "metadata": {
    "application/vnd.databricks.v1+cell": {
     "cellMetadata": {
      "byteLimit": 2048000,
      "rowLimit": 10000
     },
     "inputWidgets": {},
     "nuid": "ce4d488e-da96-4c1e-8fe7-defa5dea46bd",
     "showTitle": false,
     "title": ""
    }
   },
   "outputs": [],
   "source": [
    "country_selected = 'US'  # Replace 'CH' with the name of the country you want to filter\n",
    "events_filtered = events[events.Country == country_selected].copy()"
   ]
  },
  {
   "cell_type": "code",
   "execution_count": 0,
   "metadata": {
    "application/vnd.databricks.v1+cell": {
     "cellMetadata": {
      "byteLimit": 2048000,
      "rowLimit": 10000
     },
     "inputWidgets": {},
     "nuid": "82f3ceae-37c0-41b5-9dab-83ccff4a9ed0",
     "showTitle": false,
     "title": ""
    }
   },
   "outputs": [],
   "source": [
    "events_filtered['DATE'] = pd.to_datetime(events_filtered['DATE'])\n",
    "events_filtered.set_index('DATE', inplace=True)"
   ]
  },
  {
   "cell_type": "code",
   "execution_count": 0,
   "metadata": {
    "application/vnd.databricks.v1+cell": {
     "cellMetadata": {
      "byteLimit": 2048000,
      "rowLimit": 10000
     },
     "inputWidgets": {},
     "nuid": "0d4302d5-d119-4b1a-a7bf-3f36d34bb653",
     "showTitle": false,
     "title": ""
    }
   },
   "outputs": [],
   "source": [
    "events_filtered['GoldsteinScaleWA'] = events_filtered['GoldsteinScaleWA'].astype(float)"
   ]
  },
  {
   "cell_type": "code",
   "execution_count": 0,
   "metadata": {
    "application/vnd.databricks.v1+cell": {
     "cellMetadata": {
      "byteLimit": 2048000,
      "rowLimit": 10000
     },
     "inputWidgets": {},
     "nuid": "681f388d-9690-4b89-bb96-560f9a2651e1",
     "showTitle": false,
     "title": ""
    }
   },
   "outputs": [],
   "source": [
    "events_filtered['ToneWA'] = events_filtered['ToneWA'].astype(float)"
   ]
  },
  {
   "cell_type": "code",
   "execution_count": 0,
   "metadata": {
    "application/vnd.databricks.v1+cell": {
     "cellMetadata": {
      "byteLimit": 2048000,
      "rowLimit": 10000
     },
     "inputWidgets": {},
     "nuid": "1ad3a631-7833-4d8c-b58a-d3c19487a779",
     "showTitle": false,
     "title": ""
    }
   },
   "outputs": [],
   "source": [
    "events_filtered['day'] = events_filtered.index.day\n",
    "events_filtered['week'] = events_filtered.index.week\n",
    "events_filtered['month'] = events_filtered.index.month\n",
    "events_filtered['year'] = events_filtered.index.year\n",
    "events_filtered['day_of_week'] = events_filtered.index.dayofweek"
   ]
  },
  {
   "cell_type": "code",
   "execution_count": 0,
   "metadata": {
    "application/vnd.databricks.v1+cell": {
     "cellMetadata": {
      "byteLimit": 2048000,
      "rowLimit": 10000
     },
     "inputWidgets": {},
     "nuid": "d0a4aebb-55f0-4fa6-9943-957dea8dee65",
     "showTitle": false,
     "title": ""
    }
   },
   "outputs": [],
   "source": [
    "events_filtered['day_sin'] = np.sin(2 * np.pi * events_filtered['day'] / 31)\n",
    "events_filtered['day_cos'] = np.cos(2 * np.pi * events_filtered['day'] / 31)\n",
    "events_filtered['week_sin'] = np.sin(2 * np.pi * events_filtered['week'] / 52)\n",
    "events_filtered['week_cos'] = np.cos(2 * np.pi * events_filtered['week'] / 52)\n",
    "events_filtered['month_sin'] = np.sin(2 * np.pi * events_filtered['month'] / 12)\n",
    "events_filtered['month_cos'] = np.cos(2 * np.pi * events_filtered['month'] / 12)\n",
    "cycle_length = 10\n",
    "events_filtered['year_sin'] = np.sin(2 * np.pi * events_filtered['year'] / cycle_length)\n",
    "events_filtered['year_cos'] = np.cos(2 * np.pi * events_filtered['year'] / cycle_length)\n",
    "events_filtered['day_of_week_sin'] = np.sin(2 * np.pi * events_filtered['day_of_week'] / 7)\n",
    "events_filtered['day_of_week_cos'] = np.cos(2 * np.pi * events_filtered['day_of_week'] / 7)\n"
   ]
  },
  {
   "cell_type": "code",
   "execution_count": 0,
   "metadata": {
    "application/vnd.databricks.v1+cell": {
     "cellMetadata": {
      "byteLimit": 2048000,
      "rowLimit": 10000
     },
     "inputWidgets": {},
     "nuid": "d33d9cb2-0cee-4966-b5d2-d89e086710ac",
     "showTitle": false,
     "title": ""
    }
   },
   "outputs": [],
   "source": [
    "events_filtered.sort_index(ascending=True, inplace=True)\n",
    "events_filtered.head()"
   ]
  },
  {
   "cell_type": "code",
   "execution_count": 0,
   "metadata": {
    "application/vnd.databricks.v1+cell": {
     "cellMetadata": {
      "byteLimit": 2048000,
      "rowLimit": 10000
     },
     "inputWidgets": {},
     "nuid": "7292c0a4-5422-4b3b-bcab-2ef63e70b853",
     "showTitle": false,
     "title": ""
    }
   },
   "outputs": [],
   "source": [
    "plt.style.use('ggplot')\n",
    "plt.rcParams['figure.figsize'] = (15, 10)\n",
    "events_filtered.plot(kind = \"line\", y = ['GoldsteinScaleWA']);"
   ]
  },
  {
   "cell_type": "code",
   "execution_count": 0,
   "metadata": {
    "application/vnd.databricks.v1+cell": {
     "cellMetadata": {
      "byteLimit": 2048000,
      "rowLimit": 10000
     },
     "inputWidgets": {},
     "nuid": "8afcbb89-67df-416b-a5f5-6c22265a6c0a",
     "showTitle": false,
     "title": ""
    }
   },
   "outputs": [],
   "source": [
    "plt.style.use('ggplot')\n",
    "plt.rcParams['figure.figsize'] = (15, 10)\n",
    "events_filtered.plot(kind = \"line\", y = ['ToneWA'], color='blue');"
   ]
  },
  {
   "cell_type": "code",
   "execution_count": 0,
   "metadata": {
    "application/vnd.databricks.v1+cell": {
     "cellMetadata": {
      "byteLimit": 2048000,
      "rowLimit": 10000
     },
     "inputWidgets": {},
     "nuid": "58548e4f-d316-4bb8-8bb0-87756112a21c",
     "showTitle": false,
     "title": ""
    }
   },
   "outputs": [],
   "source": [
    "# lag features\n",
    "events_filtered['GoldsteinScaleWA_lag1'] = events_filtered['GoldsteinScaleWA'].shift(1)\n",
    "events_filtered['GoldsteinScaleWA_lag7'] = events_filtered['GoldsteinScaleWA'].shift(7)\n",
    "events_filtered['GoldsteinScaleWA_lag30'] = events_filtered['GoldsteinScaleWA'].shift(30)\n",
    "events_filtered['ToneWA_lag1'] = events_filtered['ToneWA'].shift(1)"
   ]
  },
  {
   "cell_type": "code",
   "execution_count": 0,
   "metadata": {
    "application/vnd.databricks.v1+cell": {
     "cellMetadata": {
      "byteLimit": 2048000,
      "rowLimit": 10000
     },
     "inputWidgets": {},
     "nuid": "e1fdd27a-d874-4667-a603-8efdfb63fba2",
     "showTitle": false,
     "title": ""
    }
   },
   "outputs": [],
   "source": [
    "# movil windows features\n",
    "events_filtered['GoldsteinScaleWA_roll7'] = events_filtered['GoldsteinScaleWA'].rolling(window=7).mean()\n",
    "events_filtered['ToneWA_roll7'] = events_filtered['ToneWA'].rolling(window=7).mean()"
   ]
  },
  {
   "cell_type": "code",
   "execution_count": 0,
   "metadata": {
    "application/vnd.databricks.v1+cell": {
     "cellMetadata": {
      "byteLimit": 2048000,
      "rowLimit": 10000
     },
     "inputWidgets": {},
     "nuid": "7cdcde3b-143f-4a81-9349-7f3345d5d88f",
     "showTitle": false,
     "title": ""
    }
   },
   "outputs": [],
   "source": [
    "events_filtered.dropna(inplace=True)"
   ]
  },
  {
   "cell_type": "code",
   "execution_count": 0,
   "metadata": {
    "application/vnd.databricks.v1+cell": {
     "cellMetadata": {
      "byteLimit": 2048000,
      "rowLimit": 10000
     },
     "inputWidgets": {},
     "nuid": "0fec107a-7ded-4e0d-8a12-6f1647de99a3",
     "showTitle": false,
     "title": ""
    }
   },
   "outputs": [],
   "source": [
    "\n",
    "#X = events_filtered[['day', 'week', 'month', 'year', 'day_of_week', 'GoldsteinScaleWA_lag1','GoldsteinScaleWA_lag7','GoldsteinScaleWA_lag30', 'ToneWA_lag1','GoldsteinScaleWA_roll7', 'ToneWA_roll7']]\n",
    "\n",
    "X = events_filtered[['day_sin', 'day_cos', 'week_sin', 'week_cos', 'month_sin', 'month_cos', \n",
    "                     'year_sin', 'year_cos', 'day_of_week_sin', 'day_of_week_cos', \n",
    "                     'GoldsteinScaleWA_lag1', 'GoldsteinScaleWA_lag7', 'GoldsteinScaleWA_lag30', \n",
    "                     'ToneWA_lag1', 'GoldsteinScaleWA_roll7', 'ToneWA_roll7']]\n",
    "\n",
    "y = events_filtered['GoldsteinScaleWA']\n",
    "\n",
    "X_train, X_test, y_train, y_test = train_test_split(X, y, test_size=0.2, shuffle=False)\n",
    "\n",
    "time_model = RandomForestRegressor(n_estimators=100, random_state=42)\n",
    "time_model.fit(X_train, y_train)"
   ]
  },
  {
   "cell_type": "code",
   "execution_count": 0,
   "metadata": {
    "application/vnd.databricks.v1+cell": {
     "cellMetadata": {
      "byteLimit": 2048000,
      "rowLimit": 10000
     },
     "inputWidgets": {},
     "nuid": "33a3fddb-4c4a-4340-a07e-1815ca711ef5",
     "showTitle": false,
     "title": ""
    }
   },
   "outputs": [],
   "source": [
    "y_pred = time_model.predict(X_test)"
   ]
  },
  {
   "cell_type": "code",
   "execution_count": 0,
   "metadata": {
    "application/vnd.databricks.v1+cell": {
     "cellMetadata": {
      "byteLimit": 2048000,
      "rowLimit": 10000
     },
     "inputWidgets": {},
     "nuid": "0008379b-cdb4-4043-860f-e66ae36128e5",
     "showTitle": false,
     "title": ""
    }
   },
   "outputs": [],
   "source": [
    "mse = mean_squared_error(y_test, y_pred)\n",
    "print(f\"Mean Squared Error: {mse}\")"
   ]
  },
  {
   "cell_type": "code",
   "execution_count": 0,
   "metadata": {
    "application/vnd.databricks.v1+cell": {
     "cellMetadata": {
      "byteLimit": 2048000,
      "rowLimit": 10000
     },
     "inputWidgets": {},
     "nuid": "a090287d-73ec-4ba8-b988-5393a9af9297",
     "showTitle": false,
     "title": ""
    }
   },
   "outputs": [],
   "source": [
    "y_test_pred = time_model.predict(X_test)\n",
    "\n",
    "# Create the combined plot\n",
    "plt.figure(figsize=(14, 7))\n",
    "\n",
    "# Plot the actual GoldsteinScale values in the training set\n",
    "plt.plot(y_train.index, y_train, label='Actual Value - Train Set', color='blue')\n",
    "\n",
    "# Plot the GoldsteinScale predictions in the test set\n",
    "plt.plot(y_test.index, y_test_pred, label='Prediction - Test Set', color='red', linestyle='--')\n",
    "\n",
    "# Plot settings\n",
    "plt.title('GoldsteinScale Trend: Actual Values (Train) and Predictions (Test)')\n",
    "plt.xlabel('Date')\n",
    "plt.ylabel('GoldsteinScale')\n",
    "plt.ylim([-5, 5])\n",
    "plt.legend()\n",
    "plt.grid(True)\n",
    "plt.show()\n"
   ]
  },
  {
   "cell_type": "code",
   "execution_count": 0,
   "metadata": {
    "application/vnd.databricks.v1+cell": {
     "cellMetadata": {
      "byteLimit": 2048000,
      "rowLimit": 10000
     },
     "inputWidgets": {},
     "nuid": "1b6e82f8-2a50-4d8c-8fff-5d0ec5fd2d62",
     "showTitle": false,
     "title": ""
    }
   },
   "outputs": [],
   "source": [
    "# <<<<<<< Updated upstream\n",
    "# train = pd.DataFrame({\n",
    "#     'y_train.index': y_train.index,\n",
    "#     'y_train': y_train.values\n",
    "# })\n",
    "\n",
    "# test = pd.DataFrame({\n",
    "#     'y_test.index': y_test.index,\n",
    "#     'y_pred': y_test_pred\n",
    "# })\n",
    "\n",
    "# real = pd.DataFrame({\n",
    "#     'y_test.index': y_test.index,\n",
    "#     'y_real': y_test\n",
    "# })\n",
    "# y_test.index, y_test\n",
    "\n",
    "# # Save DataFrame to a CSV file in Databricks\n",
    "# csv_path = '/Workspace/Shared/real.csv'  # The /dbfs/ prefix is used to write files to DBFS\n",
    "\n",
    "# real.to_csv(csv_path, index=False)\n",
    "\n",
    "# # Verify that the file is saved correctly (optional)\n",
    "# dbutils.fs.ls('dbfs:/Workspace/Shared/')\n",
    "#=======\n",
    "y_test_pred = time_model.predict(X_test)\n",
    "\n",
    "# Create the combined plot\n",
    "plt.figure(figsize=(14, 7))\n",
    "\n",
    "# Plot the actual GoldsteinScale values in the training set\n",
    "plt.plot(y_train.index, y_train, label='Actual Value - Train Set', color='blue')\n",
    "\n",
    "# Plot the GoldsteinScale predictions in the test set\n",
    "plt.plot(y_test.index, y_test_pred, label='Prediction - Test Set', color='red', linestyle='--')\n",
    "\n",
    "# Plot the actual GoldsteinScale values in the test set\n",
    "plt.plot(y_test.index, y_test, label='Actual Value - Test Set', color='green')\n",
    "\n",
    "# Plot settings\n",
    "plt.title('GoldsteinScale Trend: Actual Values (Train), Predictions (Test), and Actual Values (Test)')\n",
    "plt.xlabel('Date')\n",
    "plt.ylabel('GoldsteinScale')\n",
    "plt.ylim([-5, 5])\n",
    "plt.xlim([pd.Timestamp('2024-06-01'), pd.Timestamp('2024-08-10')])\n",
    "plt.legend()\n",
    "plt.grid(True)\n",
    "plt.show()\n",
    "\n"
   ]
  },
  {
   "cell_type": "markdown",
   "metadata": {
    "application/vnd.databricks.v1+cell": {
     "cellMetadata": {
      "byteLimit": 2048000,
      "rowLimit": 10000
     },
     "inputWidgets": {},
     "nuid": "0836da4d-0fa3-4f4b-b5d0-9e63392a7cd8",
     "showTitle": false,
     "title": ""
    }
   },
   "source": [
    "### Hyperparams Optimization:\n"
   ]
  },
  {
   "cell_type": "code",
   "execution_count": 0,
   "metadata": {
    "application/vnd.databricks.v1+cell": {
     "cellMetadata": {
      "byteLimit": 2048000,
      "rowLimit": 10000
     },
     "inputWidgets": {},
     "nuid": "d64089c5-5afa-4dcc-9bd6-383560203e37",
     "showTitle": false,
     "title": ""
    }
   },
   "outputs": [],
   "source": [
    "from sklearn.model_selection import GridSearchCV"
   ]
  },
  {
   "cell_type": "code",
   "execution_count": 0,
   "metadata": {
    "application/vnd.databricks.v1+cell": {
     "cellMetadata": {
      "byteLimit": 2048000,
      "rowLimit": 10000
     },
     "inputWidgets": {},
     "nuid": "bd39f48c-bb25-4da1-b84a-dffde6b7aedf",
     "showTitle": false,
     "title": ""
    }
   },
   "outputs": [],
   "source": [
    "\n",
    "#X = events_filtered[['day', 'week', 'month', 'year', 'day_of_week', 'GoldsteinScaleWA_lag1','GoldsteinScaleWA_lag7','GoldsteinScaleWA_lag30', 'ToneWA_lag1','GoldsteinScaleWA_roll7', 'ToneWA_roll7']]\n",
    "X = events_filtered[['day_sin', 'day_cos', 'week_sin', 'week_cos', 'month_sin', 'month_cos', \n",
    "                     'year_sin', 'year_cos', 'day_of_week_sin', 'day_of_week_cos', \n",
    "                     'GoldsteinScaleWA_lag1', 'GoldsteinScaleWA_lag7', 'GoldsteinScaleWA_lag30', \n",
    "                     'ToneWA_lag1', 'GoldsteinScaleWA_roll7', 'ToneWA_roll7']]\n",
    "\n",
    "y = events_filtered['GoldsteinScaleWA']\n",
    "\n",
    "X_train, X_test, y_train, y_test = train_test_split(X, y, test_size=0.2, random_state=42, shuffle=False)\n",
    "\n",
    "# Define the model\n",
    "rf = RandomForestRegressor()\n",
    "\n",
    "# Define the hyperparameter grid to test\n",
    "param_grid = {\n",
    "    'n_estimators': [150,200,250,300,350],\n",
    "    'max_depth': [None, 1, 2, 3, 4, 5, 10],\n",
    "    'min_samples_split': [10, 20, 30],\n",
    "    'min_samples_leaf': [4, 5, 6, 7],\n",
    "    'max_features': ['auto', 'sqrt', 'log2']\n",
    "}\n",
    "\n",
    "# Configure GridSearchCV\n",
    "grid_search = GridSearchCV(estimator=rf, param_grid=param_grid, \n",
    "                           cv=5, n_jobs=-1, verbose=2, scoring='neg_mean_squared_error')\n",
    "\n",
    "# Train GridSearchCV\n",
    "grid_search.fit(X_train, y_train)\n",
    "\n",
    "# Show the best parameters found\n",
    "print(\"Best parameters found:\")\n",
    "print(grid_search.best_params_)\n",
    "\n",
    "# Evaluate the model with the best parameters\n",
    "best_rf = grid_search.best_estimator_\n",
    "y_pred = best_rf.predict(X_test)\n",
    "mse = mean_squared_error(y_test, y_pred)\n",
    "print(f\"Mean Squared Error with the best parameters: {mse}\")\n"
   ]
  },
  {
   "cell_type": "code",
   "execution_count": 0,
   "metadata": {
    "application/vnd.databricks.v1+cell": {
     "cellMetadata": {
      "byteLimit": 2048000,
      "rowLimit": 10000
     },
     "inputWidgets": {},
     "nuid": "2657d53e-9808-44b7-a5a5-e2cfbe3de00d",
     "showTitle": false,
     "title": ""
    }
   },
   "outputs": [],
   "source": [
    "best_rf = grid_search.best_estimator_\n",
    "best_rf"
   ]
  },
  {
   "cell_type": "code",
   "execution_count": 0,
   "metadata": {
    "application/vnd.databricks.v1+cell": {
     "cellMetadata": {
      "byteLimit": 2048000,
      "rowLimit": 10000
     },
     "inputWidgets": {},
     "nuid": "4d8b313c-d209-46f0-b0ea-1bdf7bfc0314",
     "showTitle": false,
     "title": ""
    }
   },
   "outputs": [],
   "source": [
    "\n",
    "# Make predictions\n",
    "y_pred = best_rf.predict(X_test)\n",
    "\n",
    "# Evaluate the model\n",
    "mse = mean_squared_error(y_test, y_pred)\n",
    "print(f\"Mean Squared Error with the best parameters: {mse}\")\n",
    "\n",
    "rmse = mean_squared_error(y_test, y_pred, squared=False)  # squared=False to get the square root\n",
    "print(f\"Root Mean Squared Error (RMSE): {rmse}\")\n",
    "mae = mean_absolute_error(y_test, y_pred)\n",
    "print(f\"Mean Absolute Error (MAE): {mae}\")\n",
    "r2 = r2_score(y_test, y_pred)\n",
    "print(f\"R^2 Score (R-squared): {r2}\")\n",
    "\n",
    "# Create the combined plot\n",
    "plt.figure(figsize=(14, 7))\n",
    "\n",
    "# Plot the real values of GoldsteinScale in the training set\n",
    "plt.plot(y_train.index, y_train, label='Real Value - Train Set', color='blue')\n",
    "\n",
    "# Plot the predictions of GoldsteinScale in the test set\n",
    "plt.plot(y_test.index, y_test_pred, label='Prediction - Test Set', color='red', linestyle='--')\n",
    "\n",
    "# Plot the real values of GoldsteinScale in the test set\n",
    "plt.plot(y_test.index, y_test, label='Real Value - Test Set', color='green')\n",
    "\n",
    "# Plot settings\n",
    "plt.title('GoldsteinScale Trend: Real Values (Train), Predictions (Test), and Real Values (Test)')\n",
    "plt.xlabel('Date')\n",
    "plt.ylabel('GoldsteinScale')\n",
    "plt.ylim([-5, 5])\n",
    "plt.xlim([pd.Timestamp('2024-06-01'), pd.Timestamp('2024-08-10')]) \n",
    "plt.legend()\n",
    "plt.grid(True)\n",
    "plt.show()\n"
   ]
  },
  {
   "cell_type": "code",
   "execution_count": 0,
   "metadata": {
    "application/vnd.databricks.v1+cell": {
     "cellMetadata": {
      "byteLimit": 2048000,
      "rowLimit": 10000
     },
     "inputWidgets": {},
     "nuid": "5739fa8a-3fde-4af6-a21b-9b6fc8ac9fdf",
     "showTitle": false,
     "title": ""
    }
   },
   "outputs": [],
   "source": [
    "#Mejores parámetros encontrados:\n",
    "#{'max_depth': 10, 'max_features': 'auto', 'min_samples_leaf': 4, 'min_samples_split': 10, 'n_estimators': 300}\n",
    "#Mean Squared Error con los mejores parámetros: 0.12350352406916495\n",
    "\n",
    "#Mejores parámetros encontrados:\n",
    "#{'max_depth': 5, 'max_features': 'auto', 'min_samples_leaf': 5, 'min_samples_split': 20, 'n_estimators': 200}\n",
    "#Mean Squared Error con los mejores parámetros: 0.11963690587393314\n",
    "\n",
    "#Mejores parámetros encontrados:\n",
    "#{'max_depth': 3, 'max_features': 'auto', 'min_samples_leaf': 4, 'min_samples_split': 20, 'n_estimators': 300}\n",
    "#Mean Squared Error con los mejores parámetros: 0.11862474667284435"
   ]
  },
  {
   "cell_type": "code",
   "execution_count": 0,
   "metadata": {
    "application/vnd.databricks.v1+cell": {
     "cellMetadata": {
      "byteLimit": 2048000,
      "rowLimit": 10000
     },
     "inputWidgets": {},
     "nuid": "d6e11688-3c25-4e5d-9cec-869afbb5b2a0",
     "showTitle": false,
     "title": ""
    }
   },
   "outputs": [],
   "source": [
    "\n",
    "#X = events_filtered[['day', 'week', 'month', 'year', 'day_of_week', 'GoldsteinScaleWA_lag1','GoldsteinScaleWA_lag7',# X = events_filtered[['day', 'week', 'month', 'year', 'day_of_week', 'GoldsteinScaleWA_lag1','GoldsteinScaleWA_lag7','GoldsteinScaleWA_lag30', 'ToneWA_lag1','GoldsteinScaleWA_roll7', 'ToneWA_roll7']]\n",
    "X = events_filtered[['day_sin', 'day_cos', 'week_sin', 'week_cos', 'month_sin', 'month_cos', \n",
    "                     'year_sin', 'year_cos', 'day_of_week_sin', 'day_of_week_cos', \n",
    "                     'GoldsteinScaleWA_lag1', 'GoldsteinScaleWA_lag7', 'GoldsteinScaleWA_lag30', \n",
    "                     'ToneWA_lag1', 'GoldsteinScaleWA_roll7', 'ToneWA_roll7']]\n",
    "\n",
    "y = events_filtered['GoldsteinScaleWA']\n",
    "\n",
    "X_train, X_test, y_train, y_test = train_test_split(X, y, test_size=0.2, random_state=42, shuffle=False)\n",
    "\n",
    "# Define the model\n",
    "rf = RandomForestRegressor()\n",
    "\n",
    "# Define the hyperparameter grid to test\n",
    "param_grid = {\n",
    "    'n_estimators': [150, 200, 250, 300, 350],\n",
    "    'max_depth': [None, 1, 2, 3, 4, 5, 10],\n",
    "    'min_samples_split': [10, 20, 30],\n",
    "    'min_samples_leaf': [4, 5, 6, 7],\n",
    "    'max_features': ['auto', 'sqrt', 'log2']\n",
    "}\n",
    "\n",
    "# Set up GridSearchCV\n",
    "grid_search = GridSearchCV(estimator=rf, param_grid=param_grid, \n",
    "                           cv=5, n_jobs=-1, verbose=2, scoring='neg_mean_absolute_error')\n",
    "\n",
    "# Train GridSearchCV\n",
    "grid_search.fit(X_train, y_train)\n",
    "\n",
    "# Display the best parameters found\n",
    "print(\"Best parameters found:\")\n",
    "print(grid_search.best_params_)\n",
    "\n",
    "# Evaluate the model with the best parameters\n",
    "best_rf = grid_search.best_estimator_\n",
    "y_pred = best_rf.predict(X_test)\n",
    "mae = mean_absolute_error(y_test, y_pred)\n",
    "print(f\"Mean Absolute Error with the best parameters: {mae}\")\n"
   ]
  },
  {
   "cell_type": "code",
   "execution_count": 0,
   "metadata": {
    "application/vnd.databricks.v1+cell": {
     "cellMetadata": {
      "byteLimit": 2048000,
      "rowLimit": 10000
     },
     "inputWidgets": {},
     "nuid": "95ab5b6c-eaa5-4576-93f0-ae05bce04d68",
     "showTitle": false,
     "title": ""
    }
   },
   "outputs": [],
   "source": [
    "# Make predictions\n",
    "y_pred = best_rf.predict(X_test)\n",
    "\n",
    "# Evaluate the model\n",
    "mse = mean_squared_error(y_test, y_pred)\n",
    "print(f\"Mean Squared Error with the best parameters: {mse}\")\n",
    "\n",
    "rmse = mean_squared_error(y_test, y_pred, squared=False)  # squared=False to obtain the square root\n",
    "print(f\"Root Mean Squared Error (RMSE): {rmse}\")\n",
    "mae = mean_absolute_error(y_test, y_pred)\n",
    "print(f\"Mean Absolute Error (MAE): {mae}\")\n",
    "r2 = r2_score(y_test, y_pred)\n",
    "print(f\"R^2 Score (R-squared): {r2}\")\n",
    "\n",
    "# Create the combined plot\n",
    "plt.figure(figsize=(14, 7))\n",
    "\n",
    "# Plot the actual values of GoldsteinScale in the training set\n",
    "plt.plot(y_train.index, y_train, label='Actual Value - Train Set', color='blue')\n",
    "\n",
    "# Plot the predictions of GoldsteinScale in the test set\n",
    "plt.plot(y_test.index, y_test_pred, label='Prediction - Test Set', color='red', linestyle='--')\n",
    "\n",
    "# Plot the actual values of GoldsteinScale in the test set\n",
    "plt.plot(y_test.index, y_test, label='Actual Value - Test Set', color='green')\n",
    "\n",
    "# Plot settings\n",
    "plt.title('GoldsteinScale Trend: Actual Values (Train), Predictions (Test), and Actual Values (Test)')\n",
    "plt.xlabel('Date')\n",
    "plt.ylabel('GoldsteinScale')\n",
    "plt.ylim([-5, 5])\n",
    "plt.xlim([pd.Timestamp('2024-06-01'), pd.Timestamp('2024-08-10')]) \n",
    "plt.legend()\n",
    "plt.grid(True)\n",
    "plt.show()\n"
   ]
  },
  {
   "cell_type": "markdown",
   "metadata": {
    "application/vnd.databricks.v1+cell": {
     "cellMetadata": {
      "byteLimit": 2048000,
      "rowLimit": 10000
     },
     "inputWidgets": {},
     "nuid": "219326d8-90e1-42dd-9941-3c1b614b89d9",
     "showTitle": false,
     "title": ""
    }
   },
   "source": [
    "##XGBoost + USA\n"
   ]
  },
  {
   "cell_type": "code",
   "execution_count": 0,
   "metadata": {
    "application/vnd.databricks.v1+cell": {
     "cellMetadata": {
      "byteLimit": 2048000,
      "rowLimit": 10000
     },
     "inputWidgets": {},
     "nuid": "68cd4564-b5ac-447c-90b6-2a2e41c02b02",
     "showTitle": false,
     "title": ""
    }
   },
   "outputs": [],
   "source": [
    "# Define the model\n",
    "xgb_model = xgb.XGBRegressor(objective='reg:squarederror', random_state=42)\n",
    "\n",
    "# Define the hyperparameter grid to test\n",
    "param_grid = {\n",
    "    'n_estimators': [100, 200, 300],\n",
    "    'max_depth': [3, 5, 7, 10],\n",
    "    'learning_rate': [0.01, 0.1, 0.2, 0.3],\n",
    "    'subsample': [0.6, 0.8, 1.0],\n",
    "    'colsample_bytree': [0.6, 0.8, 1.0],\n",
    "    'gamma': [0, 0.1, 0.2, 0.3]\n",
    "}\n",
    "\n",
    "# Configure GridSearchCV\n",
    "grid_search = GridSearchCV(estimator=xgb_model, param_grid=param_grid, \n",
    "                           cv=5, n_jobs=-1, verbose=2, scoring='neg_mean_absolute_error')\n",
    "\n",
    "# Train GridSearchCV\n",
    "grid_search.fit(X_train, y_train)\n",
    "\n",
    "# Get the best parameters and the best model\n",
    "best_xgb = grid_search.best_estimator_\n",
    "\n",
    "# Make predictions\n",
    "y_pred = best_xgb.predict(X_test)\n",
    "\n",
    "# Calculate the metrics\n",
    "mse = mean_squared_error(y_test, y_pred)\n",
    "rmse = mean_squared_error(y_test, y_pred, squared=False)\n",
    "mae = mean_absolute_error(y_test, y_pred)\n",
    "r2 = r2_score(y_test, y_pred)\n",
    "\n",
    "# Display the metrics\n",
    "print(f\"Best parameters: {grid_search.best_params_}\")\n",
    "print(f\"Mean Squared Error with the best parameters: {mse}\")\n",
    "print(f\"Root Mean Squared Error (RMSE): {rmse}\")\n",
    "print(f\"Mean Absolute Error (MAE): {mae}\")\n",
    "print(f\"R-squared (R^2): {r2}\")\n",
    "\n",
    "\n"
   ]
  },
  {
   "cell_type": "code",
   "execution_count": 0,
   "metadata": {
    "application/vnd.databricks.v1+cell": {
     "cellMetadata": {
      "byteLimit": 2048000,
      "rowLimit": 10000
     },
     "inputWidgets": {},
     "nuid": "5029e0c9-7772-4b11-8716-eb94ea475e4f",
     "showTitle": false,
     "title": ""
    }
   },
   "outputs": [],
   "source": [
    "# Show metrics\n",
    "mse = mean_squared_error(y_test, y_pred)\n",
    "print(f\"Mean Squared Error con los mejores parámetros: {mse}\")"
   ]
  },
  {
   "cell_type": "code",
   "execution_count": 0,
   "metadata": {
    "application/vnd.databricks.v1+cell": {
     "cellMetadata": {
      "byteLimit": 2048000,
      "rowLimit": 10000
     },
     "inputWidgets": {},
     "nuid": "9fbf6697-f10e-4187-9f49-faf3e0a455f2",
     "showTitle": false,
     "title": ""
    }
   },
   "outputs": [],
   "source": [
    "# Create the combined plot\n",
    "plt.figure(figsize=(14, 7))\n",
    "\n",
    "# Plot the actual values of GoldsteinScale in the training set\n",
    "plt.plot(y_train.index, y_train, label='Actual Value - Train Set', color='blue')\n",
    "\n",
    "# Plot the predictions of GoldsteinScale in the test set\n",
    "plt.plot(y_test.index, y_test_pred, label='Prediction - Test Set', color='red', linestyle='--')\n",
    "\n",
    "# Plot the actual values of GoldsteinScale in the test set\n",
    "plt.plot(y_test.index, y_test, label='Actual Value - Test Set', color='green')\n",
    "\n",
    "# Plot settings\n",
    "plt.title('GoldsteinScale Trend: Actual Values (Train), Predictions (Test), and Actual Values (Test)')\n",
    "plt.xlabel('Date')\n",
    "plt.ylabel('GoldsteinScale')\n",
    "plt.ylim([-5, 5])\n",
    "plt.xlim([pd.Timestamp('2024-06-01'), pd.Timestamp('2024-08-10')]) \n",
    "plt.legend()\n",
    "plt.grid(True)\n",
    "plt.show()\n"
   ]
  },
  {
   "cell_type": "markdown",
   "metadata": {
    "application/vnd.databricks.v1+cell": {
     "cellMetadata": {
      "byteLimit": 2048000,
      "rowLimit": 10000
     },
     "inputWidgets": {},
     "nuid": "e8f70f4f-6a52-4b03-a1c6-1ed61e9536a0",
     "showTitle": false,
     "title": ""
    }
   },
   "source": [
    "## ARIMA + USA\n"
   ]
  },
  {
   "cell_type": "code",
   "execution_count": 0,
   "metadata": {
    "application/vnd.databricks.v1+cell": {
     "cellMetadata": {
      "byteLimit": 2048000,
      "rowLimit": 10000
     },
     "inputWidgets": {},
     "nuid": "27c4d8bd-ea29-4ae3-9e34-37b8f47551f1",
     "showTitle": false,
     "title": ""
    }
   },
   "outputs": [],
   "source": [
    "\n",
    "events_filtered['GoldsteinLog'] = np.log(events_filtered.GoldsteinScaleWA)\n",
    "events_filtered[\"GoldsteinLogShift1\"] = events_filtered.GoldsteinLog.shift()\n",
    "events_filtered[\"GoldsteinLogDiff\"] = events_filtered.GoldsteinLog - events_filtered.GoldsteinLogShift1\n",
    "ts = events_filtered.GoldsteinLog\n",
    "ts_diff = events_filtered.GoldsteinLogDiff\n",
    "ts_diff.dropna(inplace = True)"
   ]
  },
  {
   "cell_type": "code",
   "execution_count": 0,
   "metadata": {
    "application/vnd.databricks.v1+cell": {
     "cellMetadata": {
      "byteLimit": 2048000,
      "rowLimit": 10000
     },
     "inputWidgets": {},
     "nuid": "f46e12a1-1188-4792-aeb1-d87e24a45070",
     "showTitle": false,
     "title": ""
    }
   },
   "outputs": [],
   "source": [
    "from statsmodels.tsa.stattools import acf, pacf"
   ]
  },
  {
   "cell_type": "code",
   "execution_count": 0,
   "metadata": {
    "application/vnd.databricks.v1+cell": {
     "cellMetadata": {
      "byteLimit": 2048000,
      "rowLimit": 10000
     },
     "inputWidgets": {},
     "nuid": "c62889b6-a397-4b92-bdff-b0d24bee1274",
     "showTitle": false,
     "title": ""
    }
   },
   "outputs": [],
   "source": [
    "lag_acf = acf(ts_diff, nlags=20)\n",
    "lag_acf"
   ]
  },
  {
   "cell_type": "code",
   "execution_count": 0,
   "metadata": {
    "application/vnd.databricks.v1+cell": {
     "cellMetadata": {
      "byteLimit": 2048000,
      "rowLimit": 10000
     },
     "inputWidgets": {},
     "nuid": "b2202d6b-29db-41de-b745-8c3a826989b4",
     "showTitle": false,
     "title": ""
    }
   },
   "outputs": [],
   "source": [
    "ACF = pd.Series(lag_acf)\n",
    "ACF.plot(kind = \"bar\")"
   ]
  },
  {
   "cell_type": "code",
   "execution_count": 0,
   "metadata": {
    "application/vnd.databricks.v1+cell": {
     "cellMetadata": {
      "byteLimit": 2048000,
      "rowLimit": 10000
     },
     "inputWidgets": {},
     "nuid": "40933d87-4159-4ff7-b0b8-7e851eaffaa2",
     "showTitle": false,
     "title": ""
    }
   },
   "outputs": [],
   "source": [
    "lag_pacf = pacf(ts_diff, nlags=20, method='ols');"
   ]
  },
  {
   "cell_type": "code",
   "execution_count": 0,
   "metadata": {
    "application/vnd.databricks.v1+cell": {
     "cellMetadata": {
      "byteLimit": 2048000,
      "rowLimit": 10000
     },
     "inputWidgets": {},
     "nuid": "acfeaceb-b543-44ec-acba-4d5f8e367c71",
     "showTitle": false,
     "title": ""
    }
   },
   "outputs": [],
   "source": [
    "PACF = pd.Series(lag_pacf)\n",
    "PACF.plot(kind = \"bar\");"
   ]
  },
  {
   "cell_type": "code",
   "execution_count": 0,
   "metadata": {
    "application/vnd.databricks.v1+cell": {
     "cellMetadata": {
      "byteLimit": 2048000,
      "rowLimit": 10000
     },
     "inputWidgets": {},
     "nuid": "6926885b-80da-4763-bc87-5beea2957c3e",
     "showTitle": false,
     "title": ""
    }
   },
   "outputs": [],
   "source": [
    "# Let's see which parameters are significantly different from zero\n",
    "\n",
    "#Plot ACF: \n",
    "plt.subplot(121) \n",
    "plt.plot(lag_acf)\n",
    "plt.axhline(y=0,linestyle='--',color='gray')\n",
    "plt.axhline(y=-1.96/np.sqrt(len(ts)),linestyle='--',color='gray')\n",
    "plt.axhline(y=1.96/np.sqrt(len(ts)),linestyle='--',color='gray')\n",
    "plt.title('Autocorrelation Function')\n",
    "\n",
    "#Plot PACF:\n",
    "plt.subplot(122)\n",
    "plt.plot(lag_pacf)\n",
    "plt.axhline(y=0,linestyle='--',color='gray')\n",
    "plt.axhline(y=-1.96/np.sqrt(len(ts)),linestyle='--',color='gray')\n",
    "plt.axhline(y=1.96/np.sqrt(len(ts)),linestyle='--',color='gray')\n",
    "plt.title('Partial Autocorrelation Function')\n",
    "plt.tight_layout()"
   ]
  },
  {
   "cell_type": "code",
   "execution_count": 0,
   "metadata": {
    "application/vnd.databricks.v1+cell": {
     "cellMetadata": {
      "byteLimit": 2048000,
      "rowLimit": 10000
     },
     "inputWidgets": {},
     "nuid": "9001bf14-588d-478d-bf46-512150aa4de9",
     "showTitle": false,
     "title": ""
    }
   },
   "outputs": [],
   "source": [
    "from statsmodels.tsa.arima.model import ARIMA\n",
    "ts.head()"
   ]
  },
  {
   "cell_type": "code",
   "execution_count": 0,
   "metadata": {
    "application/vnd.databricks.v1+cell": {
     "cellMetadata": {
      "byteLimit": 2048000,
      "rowLimit": 10000
     },
     "inputWidgets": {},
     "nuid": "d7e0eb7b-bb73-436a-8985-392107c00237",
     "showTitle": false,
     "title": ""
    }
   },
   "outputs": [],
   "source": [
    "# Instantiate the model with parameters (p=1, d=0, q=1) based on the ACF and PACF analysis\n",
    "# In this case, d=0 because we are working directly with the differences\n",
    "model_AR1MA = ARIMA(ts_diff, order=(1,0,1))\n",
    "\n",
    "# Fit the model\n",
    "results_ARIMA = model_AR1MA.fit()\n",
    "results_ARIMA.fittedvalues.head()\n"
   ]
  },
  {
   "cell_type": "code",
   "execution_count": 0,
   "metadata": {
    "application/vnd.databricks.v1+cell": {
     "cellMetadata": {
      "byteLimit": 2048000,
      "rowLimit": 10000
     },
     "inputWidgets": {},
     "nuid": "4b49ceaf-9391-458c-9c58-a13a0625c2c7",
     "showTitle": false,
     "title": ""
    }
   },
   "outputs": [],
   "source": [
    "print(results_ARIMA.summary())"
   ]
  },
  {
   "cell_type": "code",
   "execution_count": 0,
   "metadata": {
    "application/vnd.databricks.v1+cell": {
     "cellMetadata": {
      "byteLimit": 2048000,
      "rowLimit": 10000
     },
     "inputWidgets": {},
     "nuid": "dac2a45e-156e-41b3-9fb1-d3ad55a2b816",
     "showTitle": false,
     "title": ""
    }
   },
   "outputs": [],
   "source": [
    "ts_diff.plot()\n",
    "results_ARIMA.fittedvalues.plot();"
   ]
  },
  {
   "cell_type": "code",
   "execution_count": 0,
   "metadata": {
    "application/vnd.databricks.v1+cell": {
     "cellMetadata": {
      "byteLimit": 2048000,
      "rowLimit": 10000
     },
     "inputWidgets": {},
     "nuid": "c1eaf14b-822a-4e7b-85f0-c6feb5b69e64",
     "showTitle": false,
     "title": ""
    }
   },
   "outputs": [],
   "source": [
    "ts_diff.sum()"
   ]
  },
  {
   "cell_type": "code",
   "execution_count": 0,
   "metadata": {
    "application/vnd.databricks.v1+cell": {
     "cellMetadata": {
      "byteLimit": 2048000,
      "rowLimit": 10000
     },
     "inputWidgets": {},
     "nuid": "30c81625-d214-4962-82e8-4d727626e383",
     "showTitle": false,
     "title": ""
    }
   },
   "outputs": [],
   "source": [
    "predictions_ARIMA_diff = pd.Series(results_ARIMA.fittedvalues, copy=True)\n",
    "predictions_ARIMA_diff.tail()\n"
   ]
  },
  {
   "cell_type": "code",
   "execution_count": 0,
   "metadata": {
    "application/vnd.databricks.v1+cell": {
     "cellMetadata": {
      "byteLimit": 2048000,
      "rowLimit": 10000
     },
     "inputWidgets": {},
     "nuid": "fbe2ab66-5067-4513-8abb-cd18958867cd",
     "showTitle": false,
     "title": ""
    }
   },
   "outputs": [],
   "source": [
    "predictions_ARIMA_diff_cumsum = predictions_ARIMA_diff.cumsum()\n",
    "predictions_ARIMA_diff_cumsum.tail()"
   ]
  },
  {
   "cell_type": "code",
   "execution_count": 0,
   "metadata": {
    "application/vnd.databricks.v1+cell": {
     "cellMetadata": {
      "byteLimit": 2048000,
      "rowLimit": 10000
     },
     "inputWidgets": {},
     "nuid": "044b2e4c-5a8d-48a7-acd3-fd97bcd71043",
     "showTitle": false,
     "title": ""
    }
   },
   "outputs": [],
   "source": [
    "ts.iloc[0]"
   ]
  },
  {
   "cell_type": "code",
   "execution_count": 0,
   "metadata": {
    "application/vnd.databricks.v1+cell": {
     "cellMetadata": {
      "byteLimit": 2048000,
      "rowLimit": 10000
     },
     "inputWidgets": {},
     "nuid": "43739458-7aba-4cf0-96e9-88bd48bc69d3",
     "showTitle": false,
     "title": ""
    }
   },
   "outputs": [],
   "source": [
    "predictions_ARIMA_log = pd.Series(ts.iloc[0], index=ts.index)\n",
    "predictions_ARIMA_log = predictions_ARIMA_log.add(predictions_ARIMA_diff_cumsum,fill_value=0)\n",
    "predictions_ARIMA_log.tail()"
   ]
  },
  {
   "cell_type": "code",
   "execution_count": 0,
   "metadata": {
    "application/vnd.databricks.v1+cell": {
     "cellMetadata": {
      "byteLimit": 2048000,
      "rowLimit": 10000
     },
     "inputWidgets": {},
     "nuid": "d5469a08-4739-482d-94e8-735385d726bd",
     "showTitle": false,
     "title": ""
    }
   },
   "outputs": [],
   "source": [
    "events_filtered['GoldsteinPredicted'] = np.exp(predictions_ARIMA_log)"
   ]
  },
  {
   "cell_type": "code",
   "execution_count": 0,
   "metadata": {
    "application/vnd.databricks.v1+cell": {
     "cellMetadata": {
      "byteLimit": 2048000,
      "rowLimit": 10000
     },
     "inputWidgets": {},
     "nuid": "da2608bd-a2dc-43ec-9f2d-d333e2b81c97",
     "showTitle": false,
     "title": ""
    }
   },
   "outputs": [],
   "source": [
    "rmse = mean_squared_error(events_filtered.GoldsteinPredicted, events_filtered.GoldsteinScaleWA, squared=False)\n",
    "rmse\n"
   ]
  },
  {
   "cell_type": "code",
   "execution_count": 0,
   "metadata": {
    "application/vnd.databricks.v1+cell": {
     "cellMetadata": {
      "byteLimit": 2048000,
      "rowLimit": 10000
     },
     "inputWidgets": {},
     "nuid": "5f98f189-f68b-4b13-b9b5-a10e1748281b",
     "showTitle": false,
     "title": ""
    }
   },
   "outputs": [],
   "source": []
  }
 ],
 "metadata": {
  "application/vnd.databricks.v1+notebook": {
   "dashboards": [],
   "environmentMetadata": null,
   "language": "python",
   "notebookMetadata": {
    "pythonIndentUnit": 4
   },
   "notebookName": "events_time_series_model_evaluation",
   "widgets": {}
  }
 },
 "nbformat": 4,
 "nbformat_minor": 0
}
